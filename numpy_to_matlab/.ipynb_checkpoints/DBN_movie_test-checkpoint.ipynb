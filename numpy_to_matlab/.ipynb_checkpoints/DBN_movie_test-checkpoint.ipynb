{
 "cells": [
  {
   "cell_type": "code",
   "execution_count": 1,
   "metadata": {},
   "outputs": [
    {
     "name": "stderr",
     "output_type": "stream",
     "text": [
      "/anaconda3/lib/python3.6/site-packages/h5py/__init__.py:36: FutureWarning: Conversion of the second argument of issubdtype from `float` to `np.floating` is deprecated. In future, it will be treated as `np.float64 == np.dtype(float).type`.\n",
      "  from ._conv import register_converters as _register_converters\n",
      "Using TensorFlow backend.\n"
     ]
    }
   ],
   "source": [
    "import keras\n",
    "import os\n",
    "\n",
    "imdb_dir = 'aclImdb'\n",
    "train_dir = os.path.join(imdb_dir, 'train')\n",
    "\n",
    "labels = []\n",
    "texts = []\n",
    "\n",
    "for label_type in ['neg', 'pos']:\n",
    "    dir_name = os.path.join(train_dir, label_type)\n",
    "    for fname in os.listdir(dir_name):\n",
    "        if fname[-4:] == '.txt':\n",
    "            f = open(os.path.join(dir_name, fname))\n",
    "            texts.append(f.read())\n",
    "            f.close()\n",
    "            if label_type == 'neg':\n",
    "                labels.append(0)\n",
    "            else:\n",
    "                labels.append(1)\n",
    "                \n",
    "L1 = labels[0:1250]\n",
    "L2 = labels[12500:13750]\n",
    "L3 = labels[1250:12500]\n",
    "L4 = labels[13750:25000]\n",
    "T1 = texts[0:1250]\n",
    "T2 = texts[12500:13750]\n",
    "T3 = texts[1250:12500]\n",
    "T4 = texts[13750:25000]\n",
    "\n",
    "L1.extend(L2)\n",
    "L3.extend(L4)\n",
    "T1.extend(T2)\n",
    "T3.extend(T4)\n",
    "labels_test = L1\n",
    "texts_test = T1\n",
    "labels = L3\n",
    "texts = T3\n",
    "\n",
    "from keras.preprocessing.text import Tokenizer\n",
    "from keras.preprocessing.sequence import pad_sequences\n",
    "import numpy as np\n",
    "\n",
    "maxlen = 500  # We will cut reviews after 100 words\n",
    "max_words = 10000  # We will only consider the top 10,000 words in the dataset\n",
    "\n",
    "tokenizer = Tokenizer(num_words=max_words)  # https://keras.io/preprocessing/text/\n",
    "tokenizer.fit_on_texts(texts)\n",
    "sequences = tokenizer.texts_to_sequences(texts)  # This turns strings into lists of integer indices.\n",
    "\n",
    "word_index = tokenizer.word_index\n",
    "# print('Found %s unique tokens.' % len(word_index))\n",
    "\n",
    "data = pad_sequences(sequences, maxlen=maxlen)\n",
    "labels = np.asarray(labels)\n",
    "# print('Shape of data tensor:', data.shape)\n",
    "# print('Shape of label tensor:', labels.shape)\n",
    "\n",
    "indices = np.arange(data.shape[0])\n",
    "np.random.shuffle(indices)\n",
    "data = data[indices]\n",
    "labels = labels[indices]\n",
    "# Split the data into a training set and a validation set\n",
    "# But first, shuffle the data, since we started from data\n",
    "# where sample are ordered (all negative first, then all positive).\n",
    "\n",
    "onehot = np.zeros((data.shape[0], max_words))\n",
    "for i in range(data.shape[0]):\n",
    "    for j in range(maxlen):\n",
    "        temp2 = data [i]\n",
    "        if temp2[j] != 0:\n",
    "            a = temp2[j]\n",
    "            onehot[i][a] = 1\n",
    "            \n",
    "from sklearn.model_selection import train_test_split\n",
    "from sklearn.metrics.classification import accuracy_score\n",
    "from sklearn.metrics import confusion_matrix\n",
    "from models import SupervisedDBNClassification\n",
    "\n",
    "# Loading dataset\n",
    "X, Y = onehot, labels\n",
    "\n",
    "# Data scaling\n",
    "X = (X).astype(np.float32)\n",
    "\n",
    "# Splitting data\n",
    "X_train, X_test, Y_train, Y_test = train_test_split(X, Y, test_size=2/9, random_state=0)\n",
    "\n",
    "# Training\n",
    "classifier = SupervisedDBNClassification(hidden_layers_structure=[16, 16],\n",
    "                                         learning_rate_rbm=0.01,\n",
    "                                         learning_rate=0.1,\n",
    "                                         n_epochs_rbm=10,\n",
    "                                         n_iter_backprop=20,\n",
    "                                         batch_size=256,\n",
    "                                         activation_function='relu',\n",
    "                                         dropout_p=0.1)"
   ]
  },
  {
   "cell_type": "code",
   "execution_count": 2,
   "metadata": {},
   "outputs": [
    {
     "name": "stdout",
     "output_type": "stream",
     "text": [
      "[START] Pre-training step:\n",
      ">> Epoch 1 finished \tRBM Reconstruction error 103.600856\n",
      ">> Epoch 2 finished \tRBM Reconstruction error 109.061144\n",
      ">> Epoch 3 finished \tRBM Reconstruction error 124.111200\n",
      ">> Epoch 4 finished \tRBM Reconstruction error 113.653333\n",
      ">> Epoch 5 finished \tRBM Reconstruction error 104.467801\n",
      ">> Epoch 6 finished \tRBM Reconstruction error 99.740211\n",
      ">> Epoch 7 finished \tRBM Reconstruction error 97.579619\n",
      ">> Epoch 8 finished \tRBM Reconstruction error 101.803563\n",
      ">> Epoch 9 finished \tRBM Reconstruction error 103.131457\n",
      ">> Epoch 10 finished \tRBM Reconstruction error 101.357463\n",
      ">> Epoch 1 finished \tRBM Reconstruction error 83.236066\n",
      ">> Epoch 2 finished \tRBM Reconstruction error 176.018688\n",
      ">> Epoch 3 finished \tRBM Reconstruction error 246.495867\n",
      ">> Epoch 4 finished \tRBM Reconstruction error 315.123347\n",
      ">> Epoch 5 finished \tRBM Reconstruction error 384.037560\n",
      ">> Epoch 6 finished \tRBM Reconstruction error 658.611859\n",
      ">> Epoch 7 finished \tRBM Reconstruction error 1967.643118\n",
      ">> Epoch 8 finished \tRBM Reconstruction error 2609.821799\n",
      ">> Epoch 9 finished \tRBM Reconstruction error 3534.287873\n",
      ">> Epoch 10 finished \tRBM Reconstruction error 2724.766514\n",
      "[END] Pre-training step\n",
      "[START] Fine tuning step:\n",
      ">> Epoch 1 finished \tANN training loss 1.277139\n",
      ">> Epoch 2 finished \tANN training loss 1.099003\n",
      ">> Epoch 3 finished \tANN training loss 0.994241\n",
      ">> Epoch 4 finished \tANN training loss 0.931719\n",
      ">> Epoch 5 finished \tANN training loss 0.866384\n",
      ">> Epoch 6 finished \tANN training loss 0.798061\n",
      ">> Epoch 7 finished \tANN training loss 0.770199\n",
      ">> Epoch 8 finished \tANN training loss 0.726445\n",
      ">> Epoch 9 finished \tANN training loss 0.687184\n",
      ">> Epoch 10 finished \tANN training loss 0.656018\n",
      "[END] Fine tuning step\n",
      "CPU times: user 9min 17s, sys: 43.5 s, total: 10min 1s\n",
      "Wall time: 5min 43s\n"
     ]
    },
    {
     "data": {
      "text/plain": [
       "SupervisedDBNClassification()"
      ]
     },
     "execution_count": 2,
     "metadata": {},
     "output_type": "execute_result"
    }
   ],
   "source": [
    "%%time\n",
    "classifier.fit(X_train, Y_train)"
   ]
  },
  {
   "cell_type": "code",
   "execution_count": 3,
   "metadata": {},
   "outputs": [],
   "source": [
    "# Test\n",
    "sequences = tokenizer.texts_to_sequences(texts_test)\n",
    "x_test = pad_sequences(sequences, maxlen=maxlen)\n",
    "y_test = np.asarray(labels_test)\n",
    "\n",
    "onehot_test = np.zeros((x_test.shape[0], max_words))\n",
    "for i in range(x_test.shape[0]):\n",
    "    for j in range(maxlen):\n",
    "        temp2 = x_test [i]\n",
    "        if temp2[j] != 0:\n",
    "            a = temp2[j]\n",
    "            onehot_test[i][a] = 1\n",
    "            \n",
    "x_test = (onehot_test).astype(np.float32)"
   ]
  },
  {
   "cell_type": "code",
   "execution_count": 4,
   "metadata": {},
   "outputs": [
    {
     "name": "stdout",
     "output_type": "stream",
     "text": [
      "Done.\n",
      "Accuracy: 0.874400\n",
      "CPU times: user 120 ms, sys: 62.8 ms, total: 183 ms\n",
      "Wall time: 140 ms\n"
     ]
    }
   ],
   "source": [
    "%%time\n",
    "y_pred = classifier.predict(x_test)\n",
    "print('Done.\\nAccuracy: %f' % accuracy_score(y_test, y_pred))"
   ]
  }
 ],
 "metadata": {
  "kernelspec": {
   "display_name": "venv",
   "language": "python",
   "name": "venv"
  },
  "language_info": {
   "codemirror_mode": {
    "name": "ipython",
    "version": 3
   },
   "file_extension": ".py",
   "mimetype": "text/x-python",
   "name": "python",
   "nbconvert_exporter": "python",
   "pygments_lexer": "ipython3",
   "version": "3.6.5"
  }
 },
 "nbformat": 4,
 "nbformat_minor": 2
}
