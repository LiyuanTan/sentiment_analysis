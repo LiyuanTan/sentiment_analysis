{
 "cells": [
  {
   "cell_type": "code",
   "execution_count": 1,
   "metadata": {},
   "outputs": [
    {
     "name": "stdout",
     "output_type": "stream",
     "text": [
      "[nltk_data] Downloading package stopwords to\n",
      "[nltk_data]     /Users/liyuantan/nltk_data...\n",
      "[nltk_data]   Package stopwords is already up-to-date!\n"
     ]
    },
    {
     "name": "stderr",
     "output_type": "stream",
     "text": [
      "/anaconda3/lib/python3.6/site-packages/pandas/core/generic.py:4401: SettingWithCopyWarning: \n",
      "A value is trying to be set on a copy of a slice from a DataFrame.\n",
      "Try using .loc[row_indexer,col_indexer] = value instead\n",
      "\n",
      "See the caveats in the documentation: http://pandas.pydata.org/pandas-docs/stable/indexing.html#indexing-view-versus-copy\n",
      "  self[name] = value\n",
      "/anaconda3/lib/python3.6/site-packages/h5py/__init__.py:36: FutureWarning: Conversion of the second argument of issubdtype from `float` to `np.floating` is deprecated. In future, it will be treated as `np.float64 == np.dtype(float).type`.\n",
      "  from ._conv import register_converters as _register_converters\n",
      "Using TensorFlow backend.\n"
     ]
    },
    {
     "name": "stdout",
     "output_type": "stream",
     "text": [
      "Found 46378 unique tokens.\n",
      "Shape of data tensor: (86775, 15)\n",
      "Shape of label tensor: (86775,)\n"
     ]
    }
   ],
   "source": [
    "PATH_TO_DATA = 'input/train-balanced-sarcasm.csv'\n",
    "\n",
    "# some necessary imports\n",
    "import os\n",
    "import numpy as np\n",
    "import pandas as pd\n",
    "import nltk\n",
    "from nltk.corpus import stopwords\n",
    "from nltk.stem import SnowballStemmer\n",
    "# Utility\n",
    "import re\n",
    "from collections import Counter\n",
    "import logging\n",
    "import time\n",
    "import pickle\n",
    "import itertools\n",
    "nltk.download('stopwords')\n",
    "\n",
    "# DATASET\n",
    "DATASET_ENCODING = \"ISO-8859-1\"\n",
    "\n",
    "# TEXT CLENAING\n",
    "TEXT_CLEANING_RE = \"[^A-Za-z0-9]+\"\n",
    "\n",
    "stop_words = stopwords.words(\"english\")\n",
    "stemmer = SnowballStemmer(\"english\")\n",
    "\n",
    "train_df = pd.read_csv(PATH_TO_DATA, encoding =DATASET_ENCODING)\n",
    "\n",
    "def preprocess(text, stem=False):\n",
    "    # Remove link,user and special characters\n",
    "    text = re.sub(TEXT_CLEANING_RE, ' ', str(text).lower()).strip()\n",
    "    tokens = []\n",
    "    for token in text.split():\n",
    "        if token not in stop_words:\n",
    "            if stem:\n",
    "                tokens.append(stemmer.stem(token))\n",
    "            else:\n",
    "                tokens.append(token)\n",
    "    return \" \".join(tokens)\n",
    "\n",
    "df = train_df[['comment', 'label']]\n",
    "\n",
    "df.comment = df.comment.apply(lambda x: preprocess(x))\n",
    "\n",
    "texts = []\n",
    "labels = []\n",
    "texts_test = []\n",
    "labels_test = []\n",
    "for i in range (90000):\n",
    "    texts.append(df.comment[i])\n",
    "    labels.append(df.label[i])\n",
    "for i in range (10000):\n",
    "    texts_test.append(df.comment[i+90000])\n",
    "    labels_test.append(df.label[i+90000])\n",
    "    \n",
    "from keras.preprocessing.text import Tokenizer\n",
    "from keras.preprocessing.sequence import pad_sequences\n",
    "import numpy as np\n",
    "\n",
    "maxlen = 15  # We will cut reviews after 100 words\n",
    "max_words = 10000  # We will only consider the top 10,000 words in the dataset\n",
    "\n",
    "tokenizer = Tokenizer(num_words=max_words)  # https://keras.io/preprocessing/text/\n",
    "tokenizer.fit_on_texts(texts)\n",
    "sequences = tokenizer.texts_to_sequences(texts)  # This turns strings into lists of integer indices.\n",
    "\n",
    "word_index = tokenizer.word_index\n",
    "print('Found %s unique tokens.' % len(word_index))\n",
    "\n",
    "d = 0\n",
    "for i in range (len(sequences)):\n",
    "    if len(sequences[i-d]) == 0:\n",
    "        del sequences[i-d]\n",
    "        del labels[i-d]\n",
    "        d = d+1\n",
    "        \n",
    "data = pad_sequences(sequences, maxlen=maxlen)\n",
    "\n",
    "labels = np.asarray(labels)\n",
    "print('Shape of data tensor:', data.shape)\n",
    "print('Shape of label tensor:', labels.shape)\n",
    "\n",
    "# Split the data into a training set and a validation set\n",
    "# But first, shuffle the data, since we started from data\n",
    "# where sample are ordered (all negative first, then all positive).\n",
    "indices = np.arange(data.shape[0])\n",
    "np.random.shuffle(indices)\n",
    "data = data[indices]\n",
    "labels = labels[indices]\n",
    "\n",
    "onehot = np.zeros((data.shape[0], max_words))\n",
    "for i in range(data.shape[0]):\n",
    "    for j in range(maxlen):\n",
    "        temp2 = data [i]\n",
    "        if temp2[j] != 0:\n",
    "            a = temp2[j]\n",
    "            onehot[i][a] = 1\n",
    "            \n",
    "from sklearn.model_selection import train_test_split\n",
    "from sklearn.metrics.classification import accuracy_score\n",
    "from sklearn.metrics import confusion_matrix\n",
    "from models import SupervisedDBNClassification\n",
    "\n",
    "# Loading dataset\n",
    "X, Y = onehot, labels\n",
    "\n",
    "# Data scaling\n",
    "X = (X).astype(np.float32)\n",
    "\n",
    "# Splitting data\n",
    "X_train, X_test, Y_train, Y_test = train_test_split(X, Y, test_size=2/9, random_state=0)\n",
    "\n",
    "# Training\n",
    "classifier = SupervisedDBNClassification(hidden_layers_structure=[256, 256],\n",
    "                                         learning_rate_rbm=0.05,\n",
    "                                         learning_rate=0.1,\n",
    "                                         n_epochs_rbm=10,\n",
    "                                         n_iter_backprop=10,\n",
    "                                         batch_size=256,\n",
    "                                         activation_function='relu',\n",
    "                                         dropout_p=0.1)"
   ]
  },
  {
   "cell_type": "code",
   "execution_count": 2,
   "metadata": {},
   "outputs": [
    {
     "name": "stdout",
     "output_type": "stream",
     "text": [
      "[START] Pre-training step:\n",
      ">> Epoch 1 finished \tRBM Reconstruction error 4.781612\n",
      ">> Epoch 2 finished \tRBM Reconstruction error 4.781469\n",
      ">> Epoch 3 finished \tRBM Reconstruction error 4.781270\n",
      ">> Epoch 4 finished \tRBM Reconstruction error 4.780572\n",
      ">> Epoch 5 finished \tRBM Reconstruction error 4.778596\n",
      ">> Epoch 6 finished \tRBM Reconstruction error 4.772271\n",
      ">> Epoch 7 finished \tRBM Reconstruction error 4.754768\n",
      ">> Epoch 8 finished \tRBM Reconstruction error 4.729931\n",
      ">> Epoch 9 finished \tRBM Reconstruction error 4.716026\n",
      ">> Epoch 10 finished \tRBM Reconstruction error 4.699045\n",
      ">> Epoch 1 finished \tRBM Reconstruction error 0.061061\n",
      ">> Epoch 2 finished \tRBM Reconstruction error 0.053274\n",
      ">> Epoch 3 finished \tRBM Reconstruction error 0.036985\n",
      ">> Epoch 4 finished \tRBM Reconstruction error 0.023417\n",
      ">> Epoch 5 finished \tRBM Reconstruction error 0.019192\n",
      ">> Epoch 6 finished \tRBM Reconstruction error 0.018896\n",
      ">> Epoch 7 finished \tRBM Reconstruction error 0.018456\n",
      ">> Epoch 8 finished \tRBM Reconstruction error 0.018437\n",
      ">> Epoch 9 finished \tRBM Reconstruction error 0.018168\n",
      ">> Epoch 10 finished \tRBM Reconstruction error 0.018295\n",
      "[END] Pre-training step\n",
      "[START] Fine tuning step:\n",
      ">> Epoch 1 finished \tANN training loss 1.365596\n",
      ">> Epoch 2 finished \tANN training loss 1.364151\n",
      ">> Epoch 3 finished \tANN training loss 1.362423\n",
      ">> Epoch 4 finished \tANN training loss 1.359907\n",
      ">> Epoch 5 finished \tANN training loss 1.353258\n",
      ">> Epoch 6 finished \tANN training loss 1.339252\n",
      ">> Epoch 7 finished \tANN training loss 1.314212\n",
      ">> Epoch 8 finished \tANN training loss 1.283597\n",
      ">> Epoch 9 finished \tANN training loss 1.260602\n",
      ">> Epoch 10 finished \tANN training loss 1.240467\n",
      "[END] Fine tuning step\n",
      "CPU times: user 55min 44s, sys: 5min 23s, total: 1h 1min 7s\n",
      "Wall time: 36min 15s\n"
     ]
    },
    {
     "data": {
      "text/plain": [
       "SupervisedDBNClassification()"
      ]
     },
     "execution_count": 2,
     "metadata": {},
     "output_type": "execute_result"
    }
   ],
   "source": [
    "%%time\n",
    "classifier.fit(X_train, Y_train)"
   ]
  },
  {
   "cell_type": "code",
   "execution_count": 3,
   "metadata": {},
   "outputs": [],
   "source": [
    "# Test\n",
    "sequences = tokenizer.texts_to_sequences(texts_test)\n",
    "\n",
    "d = 0\n",
    "for i in range (len(sequences)):\n",
    "    if len(sequences[i-d]) == 0:\n",
    "        del sequences[i-d]\n",
    "        del labels_test[i-d]\n",
    "        d = d+1  \n",
    "\n",
    "x_test = pad_sequences(sequences, maxlen=maxlen)\n",
    "y_test = np.asarray(labels_test)\n",
    "\n",
    "onehot_test = np.zeros((x_test.shape[0], max_words))\n",
    "for i in range(x_test.shape[0]):\n",
    "    for j in range(maxlen):\n",
    "        temp2 = x_test [i]\n",
    "        if temp2[j] != 0:\n",
    "            a = temp2[j]\n",
    "            onehot_test[i][a] = 1\n",
    "            \n",
    "x_test = (onehot_test).astype(np.float32)"
   ]
  },
  {
   "cell_type": "code",
   "execution_count": 4,
   "metadata": {},
   "outputs": [
    {
     "name": "stdout",
     "output_type": "stream",
     "text": [
      "Done.\n",
      "Accuracy: 0.663647\n",
      "CPU times: user 565 ms, sys: 264 ms, total: 829 ms\n",
      "Wall time: 629 ms\n"
     ]
    }
   ],
   "source": [
    "%%time\n",
    "y_pred = classifier.predict(x_test)\n",
    "print('Done.\\nAccuracy: %f' % accuracy_score(y_test, y_pred))"
   ]
  }
 ],
 "metadata": {
  "kernelspec": {
   "display_name": "venv",
   "language": "python",
   "name": "venv"
  },
  "language_info": {
   "codemirror_mode": {
    "name": "ipython",
    "version": 3
   },
   "file_extension": ".py",
   "mimetype": "text/x-python",
   "name": "python",
   "nbconvert_exporter": "python",
   "pygments_lexer": "ipython3",
   "version": "3.6.5"
  }
 },
 "nbformat": 4,
 "nbformat_minor": 2
}
