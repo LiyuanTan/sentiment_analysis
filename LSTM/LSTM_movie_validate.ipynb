{
 "cells": [
  {
   "cell_type": "code",
   "execution_count": 1,
   "metadata": {},
   "outputs": [],
   "source": [
    "import os\n",
    "\n",
    "imdb_dir = 'aclImdb'\n",
    "train_dir = os.path.join(imdb_dir, 'train')\n",
    "\n",
    "labels = []\n",
    "texts = []\n",
    "\n",
    "for label_type in ['neg', 'pos']:\n",
    "    dir_name = os.path.join(train_dir, label_type)\n",
    "    for fname in os.listdir(dir_name):\n",
    "        if fname[-4:] == '.txt':\n",
    "            f = open(os.path.join(dir_name, fname))\n",
    "            texts.append(f.read())\n",
    "            f.close()\n",
    "            if label_type == 'neg':\n",
    "                labels.append(0)\n",
    "            else:\n",
    "                labels.append(1)"
   ]
  },
  {
   "cell_type": "code",
   "execution_count": 2,
   "metadata": {},
   "outputs": [],
   "source": [
    "L1 = labels[0:1250]\n",
    "L2 = labels[12500:13750]\n",
    "L3 = labels[1250:12500]\n",
    "L4 = labels[13750:25000]\n",
    "T1 = texts[0:1250]\n",
    "T2 = texts[12500:13750]\n",
    "T3 = texts[1250:12500]\n",
    "T4 = texts[13750:25000]"
   ]
  },
  {
   "cell_type": "code",
   "execution_count": 3,
   "metadata": {},
   "outputs": [],
   "source": [
    "L1.extend(L2)\n",
    "L3.extend(L4)\n",
    "T1.extend(T2)\n",
    "T3.extend(T4)\n",
    "labels_test = L1\n",
    "texts_test = T1\n",
    "labels = L3\n",
    "texts = T3"
   ]
  },
  {
   "cell_type": "code",
   "execution_count": 4,
   "metadata": {},
   "outputs": [
    {
     "name": "stderr",
     "output_type": "stream",
     "text": [
      "/anaconda3/lib/python3.6/site-packages/h5py/__init__.py:36: FutureWarning: Conversion of the second argument of issubdtype from `float` to `np.floating` is deprecated. In future, it will be treated as `np.float64 == np.dtype(float).type`.\n",
      "  from ._conv import register_converters as _register_converters\n",
      "Using TensorFlow backend.\n"
     ]
    },
    {
     "name": "stdout",
     "output_type": "stream",
     "text": [
      "Found 84288 unique tokens.\n",
      "Shape of data tensor: (22500, 500)\n",
      "Shape of label tensor: (22500,)\n"
     ]
    }
   ],
   "source": [
    "from keras.preprocessing.text import Tokenizer\n",
    "from keras.preprocessing.sequence import pad_sequences\n",
    "import numpy as np\n",
    "\n",
    "maxlen = 500  # We will cut reviews after 100 words\n",
    "training_samples = 17500  # We will be training on 2000 samples\n",
    "validation_samples = 5000  # We will be validating on 10000 samples\n",
    "max_words = 10000  # We will only consider the top 10,000 words in the dataset\n",
    "\n",
    "tokenizer = Tokenizer(num_words=max_words)  # https://keras.io/preprocessing/text/\n",
    "tokenizer.fit_on_texts(texts)\n",
    "sequences = tokenizer.texts_to_sequences(texts)  # This turns strings into lists of integer indices.\n",
    "\n",
    "word_index = tokenizer.word_index\n",
    "print('Found %s unique tokens.' % len(word_index))\n",
    "\n",
    "data = pad_sequences(sequences, maxlen=maxlen)\n",
    "\n",
    "labels = np.asarray(labels)\n",
    "print('Shape of data tensor:', data.shape)\n",
    "print('Shape of label tensor:', labels.shape)"
   ]
  },
  {
   "cell_type": "code",
   "execution_count": 5,
   "metadata": {},
   "outputs": [],
   "source": [
    "# Split the data into a training set and a validation set\n",
    "# But first, shuffle the data, since we started from data\n",
    "# where sample are ordered (all negative first, then all positive).\n",
    "indices = np.arange(data.shape[0])\n",
    "np.random.shuffle(indices)\n",
    "data = data[indices]\n",
    "labels = labels[indices]\n",
    "\n",
    "x_train = data[:training_samples]\n",
    "y_train = labels[:training_samples]\n",
    "x_val = data[training_samples: training_samples + validation_samples]\n",
    "y_val = labels[training_samples: training_samples + validation_samples]"
   ]
  },
  {
   "cell_type": "code",
   "execution_count": 6,
   "metadata": {},
   "outputs": [
    {
     "name": "stdout",
     "output_type": "stream",
     "text": [
      "_________________________________________________________________\n",
      "Layer (type)                 Output Shape              Param #   \n",
      "=================================================================\n",
      "embedding_1 (Embedding)      (None, 500, 32)           320000    \n",
      "_________________________________________________________________\n",
      "lstm_1 (LSTM)                (None, 32)                8320      \n",
      "_________________________________________________________________\n",
      "dense_1 (Dense)              (None, 1)                 33        \n",
      "=================================================================\n",
      "Total params: 328,353\n",
      "Trainable params: 328,353\n",
      "Non-trainable params: 0\n",
      "_________________________________________________________________\n"
     ]
    }
   ],
   "source": [
    "from keras.models import Sequential\n",
    "from keras.layers import Embedding, LSTM, Dense\n",
    "\n",
    "model = Sequential()\n",
    "model.add(Embedding(max_words, 32, input_length=maxlen))\n",
    "model.add(LSTM(32,\n",
    "              dropout=0.05,\n",
    "              recurrent_dropout=0.05))\n",
    "model.add(Dense(1, activation='sigmoid'))\n",
    "model.summary()"
   ]
  },
  {
   "cell_type": "code",
   "execution_count": 7,
   "metadata": {},
   "outputs": [
    {
     "name": "stdout",
     "output_type": "stream",
     "text": [
      "Train on 17500 samples, validate on 5000 samples\n",
      "Epoch 1/10\n",
      "17500/17500 [==============================] - 55s 3ms/step - loss: 0.5990 - acc: 0.7025 - val_loss: 0.5510 - val_acc: 0.7162\n",
      "Epoch 2/10\n",
      "17500/17500 [==============================] - 54s 3ms/step - loss: 0.3988 - acc: 0.8439 - val_loss: 0.3603 - val_acc: 0.8434\n",
      "Epoch 3/10\n",
      "17500/17500 [==============================] - 54s 3ms/step - loss: 0.3069 - acc: 0.8806 - val_loss: 0.4808 - val_acc: 0.8114\n",
      "Epoch 4/10\n",
      "17500/17500 [==============================] - 54s 3ms/step - loss: 0.2687 - acc: 0.8971 - val_loss: 0.3603 - val_acc: 0.8544\n",
      "Epoch 5/10\n",
      "17500/17500 [==============================] - 54s 3ms/step - loss: 0.2260 - acc: 0.9159 - val_loss: 0.3381 - val_acc: 0.8544\n",
      "Epoch 6/10\n",
      "17500/17500 [==============================] - 54s 3ms/step - loss: 0.2003 - acc: 0.9262 - val_loss: 0.3369 - val_acc: 0.8588\n",
      "Epoch 7/10\n",
      "17500/17500 [==============================] - 54s 3ms/step - loss: 0.1853 - acc: 0.9344 - val_loss: 0.5100 - val_acc: 0.8320\n",
      "Epoch 8/10\n",
      "17500/17500 [==============================] - 57s 3ms/step - loss: 0.1706 - acc: 0.9403 - val_loss: 0.3464 - val_acc: 0.8616\n",
      "Epoch 9/10\n",
      "17500/17500 [==============================] - 54s 3ms/step - loss: 0.1634 - acc: 0.9452 - val_loss: 0.3662 - val_acc: 0.8718\n",
      "Epoch 10/10\n",
      "17500/17500 [==============================] - 54s 3ms/step - loss: 0.1370 - acc: 0.9538 - val_loss: 0.3925 - val_acc: 0.8402\n"
     ]
    }
   ],
   "source": [
    "model.compile(optimizer='rmsprop',\n",
    "              loss='binary_crossentropy',\n",
    "              metrics=['acc'])\n",
    "history = model.fit(x_train, y_train,\n",
    "                    epochs=10,\n",
    "                    batch_size=128,\n",
    "                    validation_data=(x_val, y_val))\n",
    "model.save_weights('lstm_movie_validate.h5')"
   ]
  },
  {
   "cell_type": "code",
   "execution_count": null,
   "metadata": {},
   "outputs": [],
   "source": []
  }
 ],
 "metadata": {
  "kernelspec": {
   "display_name": "Python 3",
   "language": "python",
   "name": "python3"
  },
  "language_info": {
   "codemirror_mode": {
    "name": "ipython",
    "version": 3
   },
   "file_extension": ".py",
   "mimetype": "text/x-python",
   "name": "python",
   "nbconvert_exporter": "python",
   "pygments_lexer": "ipython3",
   "version": "3.6.5"
  }
 },
 "nbformat": 4,
 "nbformat_minor": 2
}
