{
 "cells": [
  {
   "cell_type": "code",
   "execution_count": 1,
   "metadata": {},
   "outputs": [
    {
     "name": "stdout",
     "output_type": "stream",
     "text": [
      "[nltk_data] Downloading package stopwords to\n",
      "[nltk_data]     /Users/liyuantan/nltk_data...\n",
      "[nltk_data]   Package stopwords is already up-to-date!\n"
     ]
    },
    {
     "name": "stderr",
     "output_type": "stream",
     "text": [
      "/anaconda3/lib/python3.6/site-packages/pandas/core/generic.py:4401: SettingWithCopyWarning: \n",
      "A value is trying to be set on a copy of a slice from a DataFrame.\n",
      "Try using .loc[row_indexer,col_indexer] = value instead\n",
      "\n",
      "See the caveats in the documentation: http://pandas.pydata.org/pandas-docs/stable/indexing.html#indexing-view-versus-copy\n",
      "  self[name] = value\n",
      "/anaconda3/lib/python3.6/site-packages/h5py/__init__.py:36: FutureWarning: Conversion of the second argument of issubdtype from `float` to `np.floating` is deprecated. In future, it will be treated as `np.float64 == np.dtype(float).type`.\n",
      "  from ._conv import register_converters as _register_converters\n",
      "Using TensorFlow backend.\n"
     ]
    },
    {
     "name": "stdout",
     "output_type": "stream",
     "text": [
      "Found 24843 unique tokens.\n",
      "Shape of data tensor: (100357, 20)\n",
      "Shape of label tensor: (100357,)\n",
      "_________________________________________________________________\n",
      "Layer (type)                 Output Shape              Param #   \n",
      "=================================================================\n",
      "embedding_1 (Embedding)      (None, 20, 16)            80000     \n",
      "_________________________________________________________________\n",
      "lstm_1 (LSTM)                (None, 16)                2112      \n",
      "_________________________________________________________________\n",
      "dense_1 (Dense)              (None, 1)                 17        \n",
      "=================================================================\n",
      "Total params: 82,129\n",
      "Trainable params: 82,129\n",
      "Non-trainable params: 0\n",
      "_________________________________________________________________\n"
     ]
    }
   ],
   "source": [
    "PATH_TO_DATA = 'input/Hotel_Reviews.csv'\n",
    "\n",
    "# some necessary imports\n",
    "import os\n",
    "import numpy as np\n",
    "import pandas as pd\n",
    "import nltk\n",
    "from nltk.corpus import stopwords\n",
    "from nltk.stem import SnowballStemmer\n",
    "# Utility\n",
    "import re\n",
    "from collections import Counter\n",
    "import logging\n",
    "import time\n",
    "import pickle\n",
    "import itertools\n",
    "nltk.download('stopwords')\n",
    "\n",
    "# DATASET\n",
    "DATASET_ENCODING = \"ISO-8859-1\"\n",
    "\n",
    "# TEXT CLENAING\n",
    "TEXT_CLEANING_RE = \"[^A-Za-z0-9]+\"\n",
    "\n",
    "stop_words = stopwords.words(\"english\")\n",
    "stemmer = SnowballStemmer(\"english\")\n",
    "\n",
    "train_df = pd.read_csv(PATH_TO_DATA, encoding =DATASET_ENCODING)\n",
    "\n",
    "def preprocess(text, stem=False):\n",
    "    # Remove link,user and special characters\n",
    "    text = re.sub(TEXT_CLEANING_RE, ' ', str(text).lower()).strip()\n",
    "    tokens = []\n",
    "    for token in text.split():\n",
    "        if token not in stop_words:\n",
    "            if stem:\n",
    "                tokens.append(stemmer.stem(token))\n",
    "            else:\n",
    "                tokens.append(token)\n",
    "    return \" \".join(tokens)\n",
    "\n",
    "df = train_df[['Negative_Review', 'Positive_Review']]\n",
    "\n",
    "df.Negative_Review = df.Negative_Review.apply(lambda x: preprocess(x))\n",
    "df.Positive_Review = df.Positive_Review.apply(lambda x: preprocess(x))\n",
    "\n",
    "texts = []\n",
    "labels = []\n",
    "texts_test = []\n",
    "labels_test = []\n",
    "for i in range (60000):\n",
    "    if df.Negative_Review[i+10000] != \"negative\":\n",
    "        texts.append(df.Negative_Review[i+10000])\n",
    "        labels.append(0)\n",
    "for i in range (60000):\n",
    "    if df.Positive_Review[i+10000] != \"positive\":\n",
    "        texts.append(df.Positive_Review[i+10000])\n",
    "        labels.append(1)\n",
    "for i in range (6000):\n",
    "    if df.Negative_Review[i] != \"negative\":\n",
    "        texts_test.append(df.Negative_Review[i])\n",
    "        labels_test.append(0)\n",
    "for i in range (6000):\n",
    "    if df.Positive_Review[i] != \"positive\":\n",
    "        texts_test.append(df.Positive_Review[i])\n",
    "        labels_test.append(1)\n",
    "        \n",
    "from keras.preprocessing.text import Tokenizer\n",
    "from keras.preprocessing.sequence import pad_sequences\n",
    "import numpy as np\n",
    "\n",
    "maxlen = 20  # We will cut reviews after 100 words\n",
    "max_words = 5000  # We will only consider the top 10,000 words in the dataset\n",
    "\n",
    "tokenizer = Tokenizer(num_words=max_words)  # https://keras.io/preprocessing/text/\n",
    "tokenizer.fit_on_texts(texts)\n",
    "sequences = tokenizer.texts_to_sequences(texts)  # This turns strings into lists of integer indices.\n",
    "\n",
    "word_index = tokenizer.word_index\n",
    "print('Found %s unique tokens.' % len(word_index))\n",
    "\n",
    "d = 0\n",
    "for i in range (len(sequences)):\n",
    "    if len(sequences[i-d]) == 0:\n",
    "        del sequences[i-d]\n",
    "        del labels[i-d]\n",
    "        d = d+1\n",
    "        \n",
    "data = pad_sequences(sequences, maxlen=maxlen)\n",
    "\n",
    "labels = np.asarray(labels)\n",
    "print('Shape of data tensor:', data.shape)\n",
    "print('Shape of label tensor:', labels.shape)\n",
    "\n",
    "# Split the data into a training set and a validation set\n",
    "# But first, shuffle the data, since we started from data\n",
    "# where sample are ordered (all negative first, then all positive).\n",
    "indices = np.arange(data.shape[0])\n",
    "np.random.shuffle(indices)\n",
    "data = data[indices]\n",
    "labels = labels[indices]\n",
    "\n",
    "from keras.models import Sequential\n",
    "from keras.layers import Embedding, LSTM, Dense\n",
    "\n",
    "model = Sequential()\n",
    "model.add(Embedding(max_words, 64, input_length=maxlen))\n",
    "model.add(LSTM(64,\n",
    "              dropout=0.3,\n",
    "              recurrent_dropout=0.3))\n",
    "model.add(Dense(1, activation='sigmoid'))\n",
    "model.summary()"
   ]
  },
  {
   "cell_type": "code",
   "execution_count": 2,
   "metadata": {},
   "outputs": [
    {
     "name": "stdout",
     "output_type": "stream",
     "text": [
      "Epoch 1/7\n",
      "78055/78055 [==============================] - 13s 167us/step - loss: 0.2979 - acc: 0.8801\n",
      "Epoch 2/7\n",
      "78055/78055 [==============================] - 13s 162us/step - loss: 0.2006 - acc: 0.9279\n",
      "Epoch 3/7\n",
      "78055/78055 [==============================] - 13s 163us/step - loss: 0.1901 - acc: 0.9313\n",
      "Epoch 4/7\n",
      "78055/78055 [==============================] - 13s 163us/step - loss: 0.1854 - acc: 0.9330\n",
      "Epoch 5/7\n",
      "78055/78055 [==============================] - 13s 161us/step - loss: 0.1825 - acc: 0.9345\n",
      "Epoch 6/7\n",
      "78055/78055 [==============================] - 13s 161us/step - loss: 0.1792 - acc: 0.9355\n",
      "Epoch 7/7\n",
      "78055/78055 [==============================] - 13s 161us/step - loss: 0.1761 - acc: 0.9365\n",
      "CPU times: user 2min 49s, sys: 50.6 s, total: 3min 39s\n",
      "Wall time: 1min 29s\n"
     ]
    }
   ],
   "source": [
    "%%time\n",
    "model.compile(optimizer='rmsprop',\n",
    "              loss='binary_crossentropy',\n",
    "              metrics=['acc'])\n",
    "history = model.fit(data[0:78055], labels[0:78055],\n",
    "                    epochs=10,\n",
    "                    batch_size=128)\n",
    "model.save_weights('lstm_hotel_test.h5')"
   ]
  },
  {
   "cell_type": "code",
   "execution_count": 3,
   "metadata": {},
   "outputs": [],
   "source": [
    "sequences = tokenizer.texts_to_sequences(texts_test)\n",
    "\n",
    "d = 0\n",
    "for i in range (len(sequences)):\n",
    "    if len(sequences[i-d]) == 0:\n",
    "        del sequences[i-d]\n",
    "        del labels_test[i-d]\n",
    "        d = d+1  \n",
    "\n",
    "x_test = pad_sequences(sequences, maxlen=maxlen)\n",
    "y_test = np.asarray(labels_test)"
   ]
  },
  {
   "cell_type": "code",
   "execution_count": 4,
   "metadata": {},
   "outputs": [
    {
     "name": "stdout",
     "output_type": "stream",
     "text": [
      "10166/10166 [==============================] - 1s 125us/step\n",
      "CPU times: user 2.16 s, sys: 697 ms, total: 2.85 s\n",
      "Wall time: 1.28 s\n"
     ]
    },
    {
     "data": {
      "text/plain": [
       "[0.1802386434269824, 0.9329136336808971]"
      ]
     },
     "execution_count": 4,
     "metadata": {},
     "output_type": "execute_result"
    }
   ],
   "source": [
    "%%time\n",
    "model.evaluate(x_test, y_test)"
   ]
  }
 ],
 "metadata": {
  "kernelspec": {
   "display_name": "Python 3",
   "language": "python",
   "name": "python3"
  },
  "language_info": {
   "codemirror_mode": {
    "name": "ipython",
    "version": 3
   },
   "file_extension": ".py",
   "mimetype": "text/x-python",
   "name": "python",
   "nbconvert_exporter": "python",
   "pygments_lexer": "ipython3",
   "version": "3.6.5"
  }
 },
 "nbformat": 4,
 "nbformat_minor": 2
}
