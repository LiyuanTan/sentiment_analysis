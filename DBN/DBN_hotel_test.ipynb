{
 "cells": [
  {
   "cell_type": "code",
   "execution_count": 1,
   "metadata": {},
   "outputs": [
    {
     "name": "stdout",
     "output_type": "stream",
     "text": [
      "[nltk_data] Downloading package stopwords to\n",
      "[nltk_data]     /Users/liyuantan/nltk_data...\n",
      "[nltk_data]   Package stopwords is already up-to-date!\n"
     ]
    },
    {
     "name": "stderr",
     "output_type": "stream",
     "text": [
      "/anaconda3/lib/python3.6/site-packages/pandas/core/generic.py:4401: SettingWithCopyWarning: \n",
      "A value is trying to be set on a copy of a slice from a DataFrame.\n",
      "Try using .loc[row_indexer,col_indexer] = value instead\n",
      "\n",
      "See the caveats in the documentation: http://pandas.pydata.org/pandas-docs/stable/indexing.html#indexing-view-versus-copy\n",
      "  self[name] = value\n",
      "/anaconda3/lib/python3.6/site-packages/h5py/__init__.py:36: FutureWarning: Conversion of the second argument of issubdtype from `float` to `np.floating` is deprecated. In future, it will be treated as `np.float64 == np.dtype(float).type`.\n",
      "  from ._conv import register_converters as _register_converters\n",
      "Using TensorFlow backend.\n"
     ]
    },
    {
     "name": "stdout",
     "output_type": "stream",
     "text": [
      "Found 24843 unique tokens.\n"
     ]
    }
   ],
   "source": [
    "PATH_TO_DATA = 'input/Hotel_Reviews.csv'\n",
    "\n",
    "# some necessary imports\n",
    "import os\n",
    "import numpy as np\n",
    "import pandas as pd\n",
    "import nltk\n",
    "from nltk.corpus import stopwords\n",
    "from nltk.stem import SnowballStemmer\n",
    "# Utility\n",
    "import re\n",
    "from collections import Counter\n",
    "import logging\n",
    "import time\n",
    "import pickle\n",
    "import itertools\n",
    "nltk.download('stopwords')\n",
    "\n",
    "# DATASET\n",
    "DATASET_ENCODING = \"ISO-8859-1\"\n",
    "\n",
    "# TEXT CLENAING\n",
    "TEXT_CLEANING_RE = \"[^A-Za-z0-9]+\"\n",
    "\n",
    "stop_words = stopwords.words(\"english\")\n",
    "stemmer = SnowballStemmer(\"english\")\n",
    "\n",
    "train_df = pd.read_csv(PATH_TO_DATA, encoding =DATASET_ENCODING)\n",
    "\n",
    "def preprocess(text, stem=False):\n",
    "    # Remove link,user and special characters\n",
    "    text = re.sub(TEXT_CLEANING_RE, ' ', str(text).lower()).strip()\n",
    "    tokens = []\n",
    "    for token in text.split():\n",
    "        if token not in stop_words:\n",
    "            if stem:\n",
    "                tokens.append(stemmer.stem(token))\n",
    "            else:\n",
    "                tokens.append(token)\n",
    "    return \" \".join(tokens)\n",
    "\n",
    "df = train_df[['Negative_Review', 'Positive_Review']]\n",
    "\n",
    "df.Negative_Review = df.Negative_Review.apply(lambda x: preprocess(x))\n",
    "df.Positive_Review = df.Positive_Review.apply(lambda x: preprocess(x))\n",
    "\n",
    "texts = []\n",
    "labels = []\n",
    "texts_test = []\n",
    "labels_test = []\n",
    "for i in range (60000):\n",
    "    if df.Negative_Review[i+10000] != \"negative\":\n",
    "        texts.append(df.Negative_Review[i+10000])\n",
    "        labels.append(0)\n",
    "for i in range (60000):\n",
    "    if df.Positive_Review[i+10000] != \"positive\":\n",
    "        texts.append(df.Positive_Review[i+10000])\n",
    "        labels.append(1)\n",
    "for i in range (6000):\n",
    "    if df.Negative_Review[i] != \"negative\":\n",
    "        texts_test.append(df.Negative_Review[i])\n",
    "        labels_test.append(0)\n",
    "for i in range (6000):\n",
    "    if df.Positive_Review[i] != \"positive\":\n",
    "        texts_test.append(df.Positive_Review[i])\n",
    "        labels_test.append(1)\n",
    "        \n",
    "from keras.preprocessing.text import Tokenizer\n",
    "from keras.preprocessing.sequence import pad_sequences\n",
    "import numpy as np\n",
    "\n",
    "maxlen = 20  # We will cut reviews after 100 words\n",
    "max_words = 5000  # We will only consider the top 10,000 words in the dataset\n",
    "\n",
    "tokenizer = Tokenizer(num_words=max_words)  # https://keras.io/preprocessing/text/\n",
    "tokenizer.fit_on_texts(texts)\n",
    "sequences = tokenizer.texts_to_sequences(texts)  # This turns strings into lists of integer indices.\n",
    "\n",
    "word_index = tokenizer.word_index\n",
    "print('Found %s unique tokens.' % len(word_index))\n",
    "\n",
    "d = 0\n",
    "for i in range (len(sequences)):\n",
    "    if len(sequences[i-d]) == 0:\n",
    "        del sequences[i-d]\n",
    "        del labels[i-d]\n",
    "        d = d+1\n",
    "        \n",
    "data = pad_sequences(sequences, maxlen=maxlen)\n",
    "\n",
    "labels = np.asarray(labels)\n",
    "\n",
    "# Split the data into a training set and a validation set\n",
    "# But first, shuffle the data, since we started from data\n",
    "# where sample are ordered (all negative first, then all positive).\n",
    "indices = np.arange(data.shape[0])\n",
    "np.random.shuffle(indices)\n",
    "data = data[indices]\n",
    "labels = labels[indices]\n",
    "\n",
    "onehot = np.zeros((data.shape[0], max_words))\n",
    "for i in range(data.shape[0]):\n",
    "    for j in range(maxlen):\n",
    "        temp2 = data [i]\n",
    "        if temp2[j] != 0:\n",
    "            a = temp2[j]\n",
    "            onehot[i][a] = 1\n",
    "            \n",
    "from sklearn.model_selection import train_test_split\n",
    "from sklearn.metrics.classification import accuracy_score\n",
    "from sklearn.metrics import confusion_matrix\n",
    "from models import SupervisedDBNClassification\n",
    "\n",
    "\n",
    "# Loading dataset\n",
    "X, Y = onehot, labels\n",
    "\n",
    "# Data scaling\n",
    "X = (X).astype(np.float32)\n",
    "\n",
    "# Splitting data\n",
    "X_train, X_test, Y_train, Y_test = train_test_split(X, Y, test_size=2/9, random_state=0)\n",
    "#X_train = X[1000:5000]\n",
    "#X_test = X[0:1000]\n",
    "#Y_train = Y[1000:5000]\n",
    "#Y_test= Y[0:1000]\n",
    "# Training\n",
    "classifier = SupervisedDBNClassification(hidden_layers_structure=[16, 16],\n",
    "                                         learning_rate_rbm=0.05,\n",
    "                                         learning_rate=0.1,\n",
    "                                         n_epochs_rbm=10,\n",
    "                                         n_iter_backprop=10,\n",
    "                                         batch_size=64,\n",
    "                                         activation_function='relu',\n",
    "                                         dropout_p=0.05)"
   ]
  },
  {
   "cell_type": "code",
   "execution_count": 2,
   "metadata": {},
   "outputs": [
    {
     "name": "stdout",
     "output_type": "stream",
     "text": [
      "[START] Pre-training step:\n",
      ">> Epoch 1 finished \tRBM Reconstruction error 6.763894\n",
      ">> Epoch 2 finished \tRBM Reconstruction error 6.444467\n",
      ">> Epoch 3 finished \tRBM Reconstruction error 7.777442\n",
      ">> Epoch 4 finished \tRBM Reconstruction error 8.778343\n",
      ">> Epoch 5 finished \tRBM Reconstruction error 9.824365\n",
      ">> Epoch 6 finished \tRBM Reconstruction error 10.518918\n",
      ">> Epoch 7 finished \tRBM Reconstruction error 11.847908\n",
      ">> Epoch 8 finished \tRBM Reconstruction error 11.004463\n",
      ">> Epoch 9 finished \tRBM Reconstruction error 11.396749\n",
      ">> Epoch 10 finished \tRBM Reconstruction error 12.592220\n",
      ">> Epoch 1 finished \tRBM Reconstruction error 12.327836\n",
      ">> Epoch 2 finished \tRBM Reconstruction error 17.681744\n",
      ">> Epoch 3 finished \tRBM Reconstruction error 19.725383\n",
      ">> Epoch 4 finished \tRBM Reconstruction error 22.757045\n",
      ">> Epoch 5 finished \tRBM Reconstruction error 18.945044\n",
      ">> Epoch 6 finished \tRBM Reconstruction error 16.498764\n",
      ">> Epoch 7 finished \tRBM Reconstruction error 15.758697\n",
      ">> Epoch 8 finished \tRBM Reconstruction error 16.578105\n",
      ">> Epoch 9 finished \tRBM Reconstruction error 14.584557\n",
      ">> Epoch 10 finished \tRBM Reconstruction error 15.839394\n",
      "[END] Pre-training step\n",
      "[START] Fine tuning step:\n",
      ">> Epoch 1 finished \tANN training loss 0.719145\n",
      ">> Epoch 2 finished \tANN training loss 0.561684\n",
      ">> Epoch 3 finished \tANN training loss 0.509453\n",
      ">> Epoch 4 finished \tANN training loss 0.483397\n",
      ">> Epoch 5 finished \tANN training loss 0.464362\n",
      ">> Epoch 6 finished \tANN training loss 0.450711\n",
      ">> Epoch 7 finished \tANN training loss 0.439498\n",
      ">> Epoch 8 finished \tANN training loss 0.430441\n",
      ">> Epoch 9 finished \tANN training loss 0.417300\n",
      ">> Epoch 10 finished \tANN training loss 0.410783\n",
      "[END] Fine tuning step\n",
      "CPU times: user 24min 49s, sys: 1min 38s, total: 26min 28s\n",
      "Wall time: 15min 8s\n"
     ]
    },
    {
     "data": {
      "text/plain": [
       "SupervisedDBNClassification()"
      ]
     },
     "execution_count": 2,
     "metadata": {},
     "output_type": "execute_result"
    }
   ],
   "source": [
    "%%time\n",
    "classifier.fit(X_train, Y_train)"
   ]
  },
  {
   "cell_type": "code",
   "execution_count": 3,
   "metadata": {},
   "outputs": [],
   "source": [
    "# Test\n",
    "sequences = tokenizer.texts_to_sequences(texts_test)\n",
    "x_test = pad_sequences(sequences, maxlen=maxlen)\n",
    "y_test = np.asarray(labels_test)\n",
    "\n",
    "onehot_test = np.zeros((x_test.shape[0], max_words))\n",
    "for i in range(x_test.shape[0]):\n",
    "    for j in range(maxlen):\n",
    "        temp2 = x_test [i]\n",
    "        if temp2[j] != 0:\n",
    "            a = temp2[j]\n",
    "            onehot_test[i][a] = 1\n",
    "            \n",
    "x_test = (onehot_test).astype(np.float32)"
   ]
  },
  {
   "cell_type": "code",
   "execution_count": 4,
   "metadata": {},
   "outputs": [
    {
     "name": "stdout",
     "output_type": "stream",
     "text": [
      "Done.\n",
      "Accuracy: 0.922850\n",
      "CPU times: user 252 ms, sys: 121 ms, total: 373 ms\n",
      "Wall time: 283 ms\n"
     ]
    }
   ],
   "source": [
    "%%time\n",
    "y_pred = classifier.predict(x_test)\n",
    "print('Done.\\nAccuracy: %f' % accuracy_score(y_test, y_pred))"
   ]
  }
 ],
 "metadata": {
  "kernelspec": {
   "display_name": "venv",
   "language": "python",
   "name": "venv"
  },
  "language_info": {
   "codemirror_mode": {
    "name": "ipython",
    "version": 3
   },
   "file_extension": ".py",
   "mimetype": "text/x-python",
   "name": "python",
   "nbconvert_exporter": "python",
   "pygments_lexer": "ipython3",
   "version": "3.6.5"
  }
 },
 "nbformat": 4,
 "nbformat_minor": 2
}
