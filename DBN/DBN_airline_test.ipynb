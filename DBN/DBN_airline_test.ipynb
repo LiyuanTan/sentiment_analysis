{
 "cells": [
  {
   "cell_type": "code",
   "execution_count": 1,
   "metadata": {},
   "outputs": [
    {
     "name": "stderr",
     "output_type": "stream",
     "text": [
      "/anaconda3/lib/python3.6/site-packages/h5py/__init__.py:36: FutureWarning: Conversion of the second argument of issubdtype from `float` to `np.floating` is deprecated. In future, it will be treated as `np.float64 == np.dtype(float).type`.\n",
      "  from ._conv import register_converters as _register_converters\n",
      "Using TensorFlow backend.\n"
     ]
    },
    {
     "name": "stdout",
     "output_type": "stream",
     "text": [
      "[nltk_data] Downloading package stopwords to\n",
      "[nltk_data]     /Users/liyuantan/nltk_data...\n",
      "[nltk_data]   Package stopwords is already up-to-date!\n"
     ]
    }
   ],
   "source": [
    "# Basic packages\n",
    "import pandas as pd \n",
    "import numpy as np\n",
    "import re\n",
    "import collections\n",
    "\n",
    "# Packages for data preparation\n",
    "from sklearn.model_selection import train_test_split\n",
    "from nltk.corpus import stopwords\n",
    "from keras.preprocessing.text import Tokenizer\n",
    "from keras.utils.np_utils import to_categorical\n",
    "from sklearn.preprocessing import LabelEncoder\n",
    "\n",
    "NB_WORDS = 10000  # Parameter indicating the number of words we'll put in the dictionary\n",
    "\n",
    "df = pd.read_csv('Tweets.csv')\n",
    "df = df.reindex(np.random.permutation(df.index))  \n",
    "df = df[['text', 'airline_sentiment']]\n",
    "\n",
    "import nltk\n",
    "nltk.download('stopwords')\n",
    "\n",
    "def remove_stopwords(input_text):\n",
    "        stopwords_list = stopwords.words('english')\n",
    "        # Some words which might indicate a certain sentiment are kept via a whitelist\n",
    "        whitelist = [\"n't\", \"not\", \"no\"]\n",
    "        words = input_text.split() \n",
    "        clean_words = [word for word in words if (word not in stopwords_list or word in whitelist) and len(word) > 1] \n",
    "        return \" \".join(clean_words) \n",
    "    \n",
    "def remove_mentions(input_text):\n",
    "        return re.sub(r'@\\w+', '', input_text)\n",
    "       \n",
    "df.text = df.text.apply(remove_stopwords).apply(remove_mentions)\n",
    "\n",
    "X_train, X_test, y_train, y_test = train_test_split(df.text, df.airline_sentiment, test_size=0.1, random_state=37)\n",
    "assert X_train.shape[0] == y_train.shape[0]\n",
    "assert X_test.shape[0] == y_test.shape[0]\n",
    "\n",
    "tk = Tokenizer(num_words=NB_WORDS,\n",
    "               filters='!\"#$%&()*+,-./:;<=>?@[\\\\]^_`{|}~\\t\\n',\n",
    "               lower=True,\n",
    "               split=\" \")\n",
    "tk.fit_on_texts(X_train)\n",
    "\n",
    "X_train_seq = tk.texts_to_sequences(X_train)\n",
    "X_test_seq = tk.texts_to_sequences(X_test)\n",
    "\n",
    "le = LabelEncoder()\n",
    "y_train_le = le.fit_transform(y_train)\n",
    "y_test_le = le.transform(y_test)\n",
    "\n",
    "from keras.preprocessing.sequence import pad_sequences\n",
    "data = pad_sequences(X_train_seq, maxlen=26)\n",
    "labels = np.asarray(y_train_le)\n",
    "\n",
    "training_samples = 10248  # We will be training on 2000 samples\n",
    "validation_samples = 2928\n",
    "\n",
    "# Split the data into a training set and a validation set\n",
    "# But first, shuffle the data, since we started from data\n",
    "# where sample are ordered (all negative first, then all positive).\n",
    "indices = np.arange(data.shape[0])\n",
    "np.random.shuffle(indices)\n",
    "data = data[indices]\n",
    "labels = labels[indices]\n",
    "\n",
    "onehot = np.zeros((data.shape[0], NB_WORDS))\n",
    "for i in range(data.shape[0]):\n",
    "    for j in range(26):\n",
    "        temp2 = data [i]\n",
    "        if temp2[j] != 0:\n",
    "            a = temp2[j]\n",
    "            onehot[i][a] = 1\n",
    "            \n",
    "from sklearn.model_selection import train_test_split\n",
    "from sklearn.metrics.classification import accuracy_score\n",
    "from sklearn.metrics import confusion_matrix\n",
    "from models import SupervisedDBNClassification\n",
    "\n",
    "\n",
    "# Loading dataset\n",
    "X, Y = onehot, labels\n",
    "# Data scaling\n",
    "X = (X).astype(np.float32)\n",
    "\n",
    "# Splitting data\n",
    "X_train, X_test, Y_train, Y_test = train_test_split(X, Y, test_size=2/9, random_state=0)\n",
    "# Training\n",
    "classifier = SupervisedDBNClassification(hidden_layers_structure=[256, 256],\n",
    "                                         learning_rate_rbm=0.05,\n",
    "                                         learning_rate=0.1,\n",
    "                                         n_epochs_rbm=10,\n",
    "                                         n_iter_backprop=10,\n",
    "                                         batch_size=128,\n",
    "                                         activation_function='relu',\n",
    "                                         dropout_p=0.05)"
   ]
  },
  {
   "cell_type": "code",
   "execution_count": 2,
   "metadata": {},
   "outputs": [
    {
     "name": "stdout",
     "output_type": "stream",
     "text": [
      "[START] Pre-training step:\n",
      ">> Epoch 1 finished \tRBM Reconstruction error 9.692118\n",
      ">> Epoch 2 finished \tRBM Reconstruction error 9.684284\n",
      ">> Epoch 3 finished \tRBM Reconstruction error 9.649483\n",
      ">> Epoch 4 finished \tRBM Reconstruction error 9.505414\n",
      ">> Epoch 5 finished \tRBM Reconstruction error 9.295899\n",
      ">> Epoch 6 finished \tRBM Reconstruction error 9.254849\n",
      ">> Epoch 7 finished \tRBM Reconstruction error 9.237298\n",
      ">> Epoch 8 finished \tRBM Reconstruction error 9.210901\n",
      ">> Epoch 9 finished \tRBM Reconstruction error 9.168770\n",
      ">> Epoch 10 finished \tRBM Reconstruction error 9.103865\n",
      ">> Epoch 1 finished \tRBM Reconstruction error 0.462211\n",
      ">> Epoch 2 finished \tRBM Reconstruction error 0.333413\n",
      ">> Epoch 3 finished \tRBM Reconstruction error 0.138130\n",
      ">> Epoch 4 finished \tRBM Reconstruction error 0.093934\n",
      ">> Epoch 5 finished \tRBM Reconstruction error 0.090670\n",
      ">> Epoch 6 finished \tRBM Reconstruction error 0.088061\n",
      ">> Epoch 7 finished \tRBM Reconstruction error 0.087037\n",
      ">> Epoch 8 finished \tRBM Reconstruction error 0.086988\n",
      ">> Epoch 9 finished \tRBM Reconstruction error 0.085355\n",
      ">> Epoch 10 finished \tRBM Reconstruction error 0.085639\n",
      "[END] Pre-training step\n",
      "[START] Fine tuning step:\n",
      ">> Epoch 1 finished \tANN training loss 2.683882\n",
      ">> Epoch 2 finished \tANN training loss 2.489035\n",
      ">> Epoch 3 finished \tANN training loss 2.299491\n",
      ">> Epoch 4 finished \tANN training loss 2.103973\n",
      ">> Epoch 5 finished \tANN training loss 1.940768\n",
      ">> Epoch 6 finished \tANN training loss 1.819314\n",
      ">> Epoch 7 finished \tANN training loss 1.717702\n",
      ">> Epoch 8 finished \tANN training loss 1.632657\n",
      ">> Epoch 9 finished \tANN training loss 1.549088\n",
      ">> Epoch 10 finished \tANN training loss 1.459624\n",
      "[END] Fine tuning step\n",
      "CPU times: user 1h 15min 34s, sys: 5min 54s, total: 1h 21min 29s\n",
      "Wall time: 41min 3s\n"
     ]
    },
    {
     "data": {
      "text/plain": [
       "SupervisedDBNClassification()"
      ]
     },
     "execution_count": 2,
     "metadata": {},
     "output_type": "execute_result"
    }
   ],
   "source": [
    "%%time\n",
    "classifier.fit(X_train, Y_train)"
   ]
  },
  {
   "cell_type": "code",
   "execution_count": 3,
   "metadata": {},
   "outputs": [],
   "source": [
    "x_test = pad_sequences(X_test_seq, maxlen=26)\n",
    "y_test = np.asarray(y_test_le)\n",
    "\n",
    "onehot_test = np.zeros((x_test.shape[0], NB_WORDS))\n",
    "for i in range(x_test.shape[0]):\n",
    "    for j in range(26):\n",
    "        temp2 = x_test [i]\n",
    "        if temp2[j] != 0:\n",
    "            a = temp2[j]\n",
    "            onehot_test[i][a] = 1\n",
    "            \n",
    "x_test = (onehot_test).astype(np.float32)"
   ]
  },
  {
   "cell_type": "code",
   "execution_count": 4,
   "metadata": {},
   "outputs": [
    {
     "name": "stdout",
     "output_type": "stream",
     "text": [
      "Done.\n",
      "Accuracy: 0.754781\n",
      "CPU times: user 251 ms, sys: 43.4 ms, total: 295 ms\n",
      "Wall time: 176 ms\n"
     ]
    }
   ],
   "source": [
    "%%time\n",
    "y_pred = classifier.predict(x_test)\n",
    "print('Done.\\nAccuracy: %f' % accuracy_score(y_test, y_pred))"
   ]
  }
 ],
 "metadata": {
  "kernelspec": {
   "display_name": "venv",
   "language": "python",
   "name": "venv"
  },
  "language_info": {
   "codemirror_mode": {
    "name": "ipython",
    "version": 3
   },
   "file_extension": ".py",
   "mimetype": "text/x-python",
   "name": "python",
   "nbconvert_exporter": "python",
   "pygments_lexer": "ipython3",
   "version": "3.6.5"
  }
 },
 "nbformat": 4,
 "nbformat_minor": 2
}
