{
 "cells": [
  {
   "cell_type": "code",
   "execution_count": null,
   "metadata": {},
   "outputs": [],
   "source": [
    "import keras\n",
    "import os\n",
    "\n",
    "imdb_dir = 'input'\n",
    "train_dir = os.path.join(imdb_dir, 'imdb')\n",
    "\n",
    "labels = []\n",
    "texts = []\n",
    "\n",
    "for label_type in ['neg', 'pos']:\n",
    "    dir_name = os.path.join(train_dir, label_type)\n",
    "    for fname in os.listdir(dir_name):\n",
    "        if fname[-4:] == '.txt':\n",
    "            f = open(os.path.join(dir_name, fname))\n",
    "            texts.append(f.read())\n",
    "            f.close()\n",
    "            if label_type == 'neg':\n",
    "                labels.append(0)\n",
    "            else:\n",
    "                labels.append(1)\n",
    "                \n",
    "L1 = labels[0:1250]\n",
    "L2 = labels[12500:13750]\n",
    "L3 = labels[1250:12500]\n",
    "L4 = labels[13750:25000]\n",
    "T1 = texts[0:1250]\n",
    "T2 = texts[12500:13750]\n",
    "T3 = texts[1250:12500]\n",
    "T4 = texts[13750:25000]\n",
    "\n",
    "L1.extend(L2)\n",
    "L3.extend(L4)\n",
    "T1.extend(T2)\n",
    "T3.extend(T4)\n",
    "labels_test = L1\n",
    "texts_test = T1\n",
    "labels = L3\n",
    "texts = T3\n",
    "\n",
    "from keras.preprocessing.text import Tokenizer\n",
    "from keras.preprocessing.sequence import pad_sequences\n",
    "import numpy as np\n",
    "\n",
    "maxlen = 500  # We will cut reviews after 500 words\n",
    "max_words = 10000  # We will only consider the top 10,000 words in the dataset\n",
    "\n",
    "tokenizer = Tokenizer(num_words=max_words)  # https://keras.io/preprocessing/text/\n",
    "tokenizer.fit_on_texts(texts)\n",
    "sequences = tokenizer.texts_to_sequences(texts)  # This turns strings into lists of integer indices.\n",
    "\n",
    "word_index = tokenizer.word_index\n",
    "# print('Found %s unique tokens.' % len(word_index))\n",
    "\n",
    "data = pad_sequences(sequences, maxlen=maxlen)\n",
    "labels = np.asarray(labels)\n",
    "# print('Shape of data tensor:', data.shape)\n",
    "# print('Shape of label tensor:', labels.shape)\n",
    "\n",
    "indices = np.arange(data.shape[0])\n",
    "np.random.shuffle(indices)\n",
    "data = data[indices]\n",
    "labels = labels[indices]\n",
    "# Split the data into a training set and a validation set\n",
    "# But first, shuffle the data, since we started from data\n",
    "# where sample are ordered (all negative first, then all positive).\n",
    "\n",
    "onehot = np.zeros((data.shape[0], max_words))\n",
    "for i in range(data.shape[0]):\n",
    "    for j in range(maxlen):\n",
    "        temp2 = data [i]\n",
    "        if temp2[j] != 0:\n",
    "            a = temp2[j] - 1\n",
    "            onehot[i][a] = 1\n",
    "            \n",
    "from sklearn.model_selection import train_test_split\n",
    "from sklearn.metrics.classification import accuracy_score\n",
    "from sklearn.metrics import confusion_matrix\n",
    "from models import SupervisedDBNClassification\n",
    "\n",
    "# Loading dataset\n",
    "X, Y = onehot, labels\n",
    "\n",
    "# Data scaling\n",
    "X = (X).astype(np.float32)\n",
    "\n",
    "# Splitting data\n",
    "X_train, X_test, Y_train, Y_test = train_test_split(X, Y, test_size=2/9, random_state=0)\n",
    "\n",
    "# Training\n",
    "classifier = SupervisedDBNClassification(hidden_layers_structure=[16, 16],\n",
    "                                         learning_rate_rbm=0.01,\n",
    "                                         learning_rate=0.1,\n",
    "                                         n_epochs_rbm=10,\n",
    "                                         n_iter_backprop=20,\n",
    "                                         batch_size=256,\n",
    "                                         activation_function='relu',\n",
    "                                         dropout_p=0.1)"
   ]
  },
  {
   "cell_type": "code",
   "execution_count": null,
   "metadata": {},
   "outputs": [],
   "source": [
    "%%time\n",
    "classifier.fit(X_train, Y_train)"
   ]
  },
  {
   "cell_type": "markdown",
   "metadata": {},
   "source": [
    "Collect the training time on the training set."
   ]
  },
  {
   "cell_type": "code",
   "execution_count": null,
   "metadata": {},
   "outputs": [],
   "source": [
    "# Test\n",
    "sequences = tokenizer.texts_to_sequences(texts_test)\n",
    "x_test = pad_sequences(sequences, maxlen=maxlen)\n",
    "y_test = np.asarray(labels_test)\n",
    "\n",
    "onehot_test = np.zeros((x_test.shape[0], max_words))\n",
    "for i in range(x_test.shape[0]):\n",
    "    for j in range(maxlen):\n",
    "        temp2 = x_test [i]\n",
    "        if temp2[j] != 0:\n",
    "            a = temp2[j] - 1\n",
    "            onehot_test[i][a] = 1\n",
    "            \n",
    "x_test = (onehot_test).astype(np.float32)"
   ]
  },
  {
   "cell_type": "code",
   "execution_count": null,
   "metadata": {},
   "outputs": [],
   "source": [
    "%%time\n",
    "y_pred = classifier.predict(x_test)\n",
    "print('Done.\\nAccuracy: %f' % accuracy_score(y_test, y_pred))"
   ]
  },
  {
   "cell_type": "markdown",
   "metadata": {},
   "source": [
    "Collect the test accuracy on the test set."
   ]
  }
 ],
 "metadata": {
  "kernelspec": {
   "display_name": "venv",
   "language": "python",
   "name": "venv"
  },
  "language_info": {
   "codemirror_mode": {
    "name": "ipython",
    "version": 3
   },
   "file_extension": ".py",
   "mimetype": "text/x-python",
   "name": "python",
   "nbconvert_exporter": "python",
   "pygments_lexer": "ipython3",
   "version": "3.6.5"
  }
 },
 "nbformat": 4,
 "nbformat_minor": 2
}
