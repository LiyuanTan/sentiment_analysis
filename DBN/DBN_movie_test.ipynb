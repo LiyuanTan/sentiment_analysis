{
 "cells": [
  {
   "cell_type": "code",
   "execution_count": 1,
   "metadata": {},
   "outputs": [
    {
     "name": "stderr",
     "output_type": "stream",
     "text": [
      "/anaconda3/lib/python3.6/site-packages/h5py/__init__.py:36: FutureWarning: Conversion of the second argument of issubdtype from `float` to `np.floating` is deprecated. In future, it will be treated as `np.float64 == np.dtype(float).type`.\n",
      "  from ._conv import register_converters as _register_converters\n",
      "Using TensorFlow backend.\n"
     ]
    }
   ],
   "source": [
    "import keras\n",
    "import os\n",
    "\n",
    "imdb_dir = 'aclImdb'\n",
    "train_dir = os.path.join(imdb_dir, 'train')\n",
    "\n",
    "labels = []\n",
    "texts = []\n",
    "\n",
    "for label_type in ['neg', 'pos']:\n",
    "    dir_name = os.path.join(train_dir, label_type)\n",
    "    for fname in os.listdir(dir_name):\n",
    "        if fname[-4:] == '.txt':\n",
    "            f = open(os.path.join(dir_name, fname))\n",
    "            texts.append(f.read())\n",
    "            f.close()\n",
    "            if label_type == 'neg':\n",
    "                labels.append(0)\n",
    "            else:\n",
    "                labels.append(1)\n",
    "                \n",
    "L1 = labels[0:1250]\n",
    "L2 = labels[12500:13750]\n",
    "L3 = labels[1250:12500]\n",
    "L4 = labels[13750:25000]\n",
    "T1 = texts[0:1250]\n",
    "T2 = texts[12500:13750]\n",
    "T3 = texts[1250:12500]\n",
    "T4 = texts[13750:25000]\n",
    "\n",
    "L1.extend(L2)\n",
    "L3.extend(L4)\n",
    "T1.extend(T2)\n",
    "T3.extend(T4)\n",
    "labels_test = L1\n",
    "texts_test = T1\n",
    "labels = L3\n",
    "texts = T3\n",
    "\n",
    "from keras.preprocessing.text import Tokenizer\n",
    "from keras.preprocessing.sequence import pad_sequences\n",
    "import numpy as np\n",
    "\n",
    "maxlen = 500  # We will cut reviews after 100 words\n",
    "max_words = 10000  # We will only consider the top 10,000 words in the dataset\n",
    "\n",
    "tokenizer = Tokenizer(num_words=max_words)  # https://keras.io/preprocessing/text/\n",
    "tokenizer.fit_on_texts(texts)\n",
    "sequences = tokenizer.texts_to_sequences(texts)  # This turns strings into lists of integer indices.\n",
    "\n",
    "word_index = tokenizer.word_index\n",
    "# print('Found %s unique tokens.' % len(word_index))\n",
    "\n",
    "data = pad_sequences(sequences, maxlen=maxlen)\n",
    "labels = np.asarray(labels)\n",
    "# print('Shape of data tensor:', data.shape)\n",
    "# print('Shape of label tensor:', labels.shape)\n",
    "\n",
    "indices = np.arange(data.shape[0])\n",
    "np.random.shuffle(indices)\n",
    "data = data[indices]\n",
    "labels = labels[indices]\n",
    "# Split the data into a training set and a validation set\n",
    "# But first, shuffle the data, since we started from data\n",
    "# where sample are ordered (all negative first, then all positive).\n",
    "\n",
    "onehot = np.zeros((data.shape[0], max_words))\n",
    "for i in range(data.shape[0]):\n",
    "    for j in range(maxlen):\n",
    "        temp2 = data [i]\n",
    "        if temp2[j] != 0:\n",
    "            a = temp2[j]\n",
    "            onehot[i][a] = 1\n",
    "            \n",
    "from sklearn.model_selection import train_test_split\n",
    "from sklearn.metrics.classification import accuracy_score\n",
    "from sklearn.metrics import confusion_matrix\n",
    "from models import SupervisedDBNClassification\n",
    "\n",
    "# Loading dataset\n",
    "X, Y = onehot, labels\n",
    "\n",
    "# Data scaling\n",
    "X = (X).astype(np.float32)\n",
    "\n",
    "# Splitting data\n",
    "X_train, X_test, Y_train, Y_test = train_test_split(X, Y, test_size=2/9, random_state=0)\n",
    "\n",
    "# Training\n",
    "classifier = SupervisedDBNClassification(hidden_layers_structure=[16, 16],\n",
    "                                         learning_rate_rbm=0.01,\n",
    "                                         learning_rate=0.1,\n",
    "                                         n_epochs_rbm=10,\n",
    "                                         n_iter_backprop=20,\n",
    "                                         batch_size=256,\n",
    "                                         activation_function='relu',\n",
    "                                         dropout_p=0.1)"
   ]
  },
  {
   "cell_type": "code",
   "execution_count": 2,
   "metadata": {},
   "outputs": [
    {
     "name": "stdout",
     "output_type": "stream",
     "text": [
      "[START] Pre-training step:\n",
      ">> Epoch 1 finished \tRBM Reconstruction error 238.273920\n",
      ">> Epoch 2 finished \tRBM Reconstruction error 239.713395\n",
      ">> Epoch 3 finished \tRBM Reconstruction error 242.527875\n",
      ">> Epoch 4 finished \tRBM Reconstruction error 279.771089\n",
      ">> Epoch 5 finished \tRBM Reconstruction error 266.206747\n",
      ">> Epoch 6 finished \tRBM Reconstruction error 312.872361\n",
      ">> Epoch 7 finished \tRBM Reconstruction error 345.318212\n",
      ">> Epoch 8 finished \tRBM Reconstruction error 373.083317\n",
      ">> Epoch 9 finished \tRBM Reconstruction error 424.608705\n",
      ">> Epoch 10 finished \tRBM Reconstruction error 499.851255\n",
      ">> Epoch 1 finished \tRBM Reconstruction error 21790.977993\n",
      ">> Epoch 2 finished \tRBM Reconstruction error 25656.785656\n",
      ">> Epoch 3 finished \tRBM Reconstruction error 32243.753166\n",
      ">> Epoch 4 finished \tRBM Reconstruction error 26607.599198\n",
      ">> Epoch 5 finished \tRBM Reconstruction error 19267.356065\n",
      ">> Epoch 6 finished \tRBM Reconstruction error 26896.636675\n",
      ">> Epoch 7 finished \tRBM Reconstruction error 46938.317477\n",
      ">> Epoch 8 finished \tRBM Reconstruction error 31590.231274\n",
      ">> Epoch 9 finished \tRBM Reconstruction error 10095.814599\n",
      ">> Epoch 10 finished \tRBM Reconstruction error 33411.876091\n",
      "[END] Pre-training step\n",
      "[START] Fine tuning step:\n",
      ">> Epoch 1 finished \tANN training loss 2.136341\n",
      ">> Epoch 2 finished \tANN training loss 1.329579\n",
      ">> Epoch 3 finished \tANN training loss 1.169447\n",
      ">> Epoch 4 finished \tANN training loss 0.952932\n",
      ">> Epoch 5 finished \tANN training loss 0.828984\n",
      ">> Epoch 6 finished \tANN training loss 0.791766\n",
      ">> Epoch 7 finished \tANN training loss 0.718981\n",
      ">> Epoch 8 finished \tANN training loss 0.692862\n",
      ">> Epoch 9 finished \tANN training loss 0.616099\n",
      ">> Epoch 10 finished \tANN training loss 0.586677\n",
      ">> Epoch 11 finished \tANN training loss 0.605848\n",
      ">> Epoch 12 finished \tANN training loss 0.545357\n",
      ">> Epoch 13 finished \tANN training loss 0.519783\n",
      ">> Epoch 14 finished \tANN training loss 0.517269\n",
      ">> Epoch 15 finished \tANN training loss 0.493456\n",
      ">> Epoch 16 finished \tANN training loss 0.459961\n",
      ">> Epoch 17 finished \tANN training loss 0.482194\n",
      ">> Epoch 18 finished \tANN training loss 0.465517\n",
      ">> Epoch 19 finished \tANN training loss 0.415020\n",
      ">> Epoch 20 finished \tANN training loss 0.375147\n",
      "[END] Fine tuning step\n",
      "CPU times: user 13min 36s, sys: 44.9 s, total: 14min 21s\n",
      "Wall time: 7min 48s\n"
     ]
    },
    {
     "data": {
      "text/plain": [
       "SupervisedDBNClassification()"
      ]
     },
     "execution_count": 2,
     "metadata": {},
     "output_type": "execute_result"
    }
   ],
   "source": [
    "%%time\n",
    "classifier.fit(X_train, Y_train)"
   ]
  },
  {
   "cell_type": "code",
   "execution_count": 3,
   "metadata": {},
   "outputs": [],
   "source": [
    "# Test\n",
    "sequences = tokenizer.texts_to_sequences(texts_test)\n",
    "x_test = pad_sequences(sequences, maxlen=maxlen)\n",
    "y_test = np.asarray(labels_test)\n",
    "\n",
    "onehot_test = np.zeros((x_test.shape[0], max_words))\n",
    "for i in range(x_test.shape[0]):\n",
    "    for j in range(maxlen):\n",
    "        temp2 = x_test [i]\n",
    "        if temp2[j] != 0:\n",
    "            a = temp2[j]\n",
    "            onehot_test[i][a] = 1\n",
    "            \n",
    "x_test = (onehot_test).astype(np.float32)"
   ]
  },
  {
   "cell_type": "code",
   "execution_count": 4,
   "metadata": {},
   "outputs": [
    {
     "name": "stdout",
     "output_type": "stream",
     "text": [
      "Done.\n",
      "Accuracy: 0.896800\n",
      "CPU times: user 120 ms, sys: 61.1 ms, total: 181 ms\n",
      "Wall time: 137 ms\n"
     ]
    }
   ],
   "source": [
    "%%time\n",
    "y_pred = classifier.predict(x_test)\n",
    "print('Done.\\nAccuracy: %f' % accuracy_score(y_test, y_pred))"
   ]
  }
 ],
 "metadata": {
  "kernelspec": {
   "display_name": "venv",
   "language": "python",
   "name": "venv"
  },
  "language_info": {
   "codemirror_mode": {
    "name": "ipython",
    "version": 3
   },
   "file_extension": ".py",
   "mimetype": "text/x-python",
   "name": "python",
   "nbconvert_exporter": "python",
   "pygments_lexer": "ipython3",
   "version": "3.6.5"
  }
 },
 "nbformat": 4,
 "nbformat_minor": 2
}
