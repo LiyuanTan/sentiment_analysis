{
 "cells": [
  {
   "cell_type": "code",
   "execution_count": 1,
   "metadata": {},
   "outputs": [
    {
     "name": "stderr",
     "output_type": "stream",
     "text": [
      "/anaconda3/lib/python3.6/site-packages/h5py/__init__.py:36: FutureWarning: Conversion of the second argument of issubdtype from `float` to `np.floating` is deprecated. In future, it will be treated as `np.float64 == np.dtype(float).type`.\n",
      "  from ._conv import register_converters as _register_converters\n",
      "Using TensorFlow backend.\n"
     ]
    },
    {
     "name": "stdout",
     "output_type": "stream",
     "text": [
      "[nltk_data] Downloading package stopwords to\n",
      "[nltk_data]     /Users/liyuantan/nltk_data...\n",
      "[nltk_data]   Package stopwords is already up-to-date!\n"
     ]
    }
   ],
   "source": [
    "# Basic packages\n",
    "import pandas as pd \n",
    "import numpy as np\n",
    "import re\n",
    "import collections\n",
    "\n",
    "# Packages for data preparation\n",
    "from sklearn.model_selection import train_test_split\n",
    "from nltk.corpus import stopwords\n",
    "from keras.preprocessing.text import Tokenizer\n",
    "from keras.utils.np_utils import to_categorical\n",
    "from sklearn.preprocessing import LabelEncoder\n",
    "\n",
    "NB_WORDS = 10000  # Parameter indicating the number of words we'll put in the dictionary\n",
    "\n",
    "df = pd.read_csv('Tweets.csv')\n",
    "df = df.reindex(np.random.permutation(df.index))  \n",
    "df = df[['text', 'airline_sentiment']]\n",
    "\n",
    "import nltk\n",
    "nltk.download('stopwords')\n",
    "\n",
    "def remove_stopwords(input_text):\n",
    "        stopwords_list = stopwords.words('english')\n",
    "        # Some words which might indicate a certain sentiment are kept via a whitelist\n",
    "        whitelist = [\"n't\", \"not\", \"no\"]\n",
    "        words = input_text.split() \n",
    "        clean_words = [word for word in words if (word not in stopwords_list or word in whitelist) and len(word) > 1] \n",
    "        return \" \".join(clean_words) \n",
    "    \n",
    "def remove_mentions(input_text):\n",
    "        return re.sub(r'@\\w+', '', input_text)\n",
    "       \n",
    "df.text = df.text.apply(remove_stopwords).apply(remove_mentions)\n",
    "\n",
    "X_train, X_test, y_train, y_test = train_test_split(df.text, df.airline_sentiment, test_size=0.1, random_state=37)\n",
    "assert X_train.shape[0] == y_train.shape[0]\n",
    "assert X_test.shape[0] == y_test.shape[0]\n",
    "\n",
    "tk = Tokenizer(num_words=NB_WORDS,\n",
    "               filters='!\"#$%&()*+,-./:;<=>?@[\\\\]^_`{|}~\\t\\n',\n",
    "               lower=True,\n",
    "               split=\" \")\n",
    "tk.fit_on_texts(X_train)\n",
    "\n",
    "X_train_seq = tk.texts_to_sequences(X_train)\n",
    "X_test_seq = tk.texts_to_sequences(X_test)\n",
    "\n",
    "le = LabelEncoder()\n",
    "y_train_le = le.fit_transform(y_train)\n",
    "y_test_le = le.transform(y_test)\n",
    "\n",
    "from keras.preprocessing.sequence import pad_sequences\n",
    "data = pad_sequences(X_train_seq, maxlen=26)\n",
    "labels = np.asarray(y_train_le)\n",
    "\n",
    "training_samples = 10248  # We will be training on 2000 samples\n",
    "validation_samples = 2928\n",
    "\n",
    "# Split the data into a training set and a validation set\n",
    "# But first, shuffle the data, since we started from data\n",
    "# where sample are ordered (all negative first, then all positive).\n",
    "indices = np.arange(data.shape[0])\n",
    "np.random.shuffle(indices)\n",
    "data = data[indices]\n",
    "labels = labels[indices]"
   ]
  },
  {
   "cell_type": "code",
   "execution_count": 2,
   "metadata": {},
   "outputs": [],
   "source": [
    "onehot = np.zeros((data.shape[0], NB_WORDS))\n",
    "for i in range(data.shape[0]):\n",
    "    for j in range(26):\n",
    "        temp2 = data [i]\n",
    "        if temp2[j] != 0:\n",
    "            a = temp2[j]\n",
    "            onehot[i][a] = 1"
   ]
  },
  {
   "cell_type": "code",
   "execution_count": 3,
   "metadata": {},
   "outputs": [
    {
     "name": "stdout",
     "output_type": "stream",
     "text": [
      "(10248, 10000)\n",
      "(2928, 10000)\n",
      "(10248,)\n",
      "(2928,)\n"
     ]
    }
   ],
   "source": [
    "from sklearn.model_selection import train_test_split\n",
    "from sklearn.metrics.classification import accuracy_score\n",
    "from sklearn.metrics import confusion_matrix\n",
    "from models import SupervisedDBNClassification\n",
    "\n",
    "\n",
    "# Loading dataset\n",
    "X, Y = onehot, labels\n",
    "# Data scaling\n",
    "X = (X).astype(np.float32)\n",
    "\n",
    "# Splitting data\n",
    "X_train, X_test, Y_train, Y_test = train_test_split(X, Y, test_size=2/9, random_state=0)\n",
    "#X_train = X[1000:5000]\n",
    "#X_test = X[0:1000]\n",
    "#Y_train = Y[1000:5000]\n",
    "#Y_test= Y[0:1000]\n",
    "print (X_train.shape)\n",
    "print (X_test.shape)\n",
    "print (Y_train.shape)\n",
    "print (Y_test.shape)"
   ]
  },
  {
   "cell_type": "code",
   "execution_count": 4,
   "metadata": {},
   "outputs": [
    {
     "name": "stdout",
     "output_type": "stream",
     "text": [
      "[START] Pre-training step:\n",
      ">> Epoch 1 finished \tRBM Reconstruction error 9.632721\n",
      ">> Epoch 2 finished \tRBM Reconstruction error 9.625779\n",
      ">> Epoch 3 finished \tRBM Reconstruction error 9.595372\n",
      ">> Epoch 4 finished \tRBM Reconstruction error 9.470302\n",
      ">> Epoch 5 finished \tRBM Reconstruction error 9.254887\n",
      ">> Epoch 6 finished \tRBM Reconstruction error 9.201397\n",
      ">> Epoch 7 finished \tRBM Reconstruction error 9.184088\n",
      ">> Epoch 8 finished \tRBM Reconstruction error 9.158950\n",
      ">> Epoch 9 finished \tRBM Reconstruction error 9.116426\n",
      ">> Epoch 10 finished \tRBM Reconstruction error 9.051239\n",
      ">> Epoch 1 finished \tRBM Reconstruction error 0.455864\n",
      ">> Epoch 2 finished \tRBM Reconstruction error 0.329877\n",
      ">> Epoch 3 finished \tRBM Reconstruction error 0.137633\n",
      ">> Epoch 4 finished \tRBM Reconstruction error 0.092965\n",
      ">> Epoch 5 finished \tRBM Reconstruction error 0.089282\n",
      ">> Epoch 6 finished \tRBM Reconstruction error 0.088207\n",
      ">> Epoch 7 finished \tRBM Reconstruction error 0.087179\n",
      ">> Epoch 8 finished \tRBM Reconstruction error 0.084665\n",
      ">> Epoch 9 finished \tRBM Reconstruction error 0.085099\n",
      ">> Epoch 10 finished \tRBM Reconstruction error 0.082909\n",
      "[END] Pre-training step\n",
      "[START] Fine tuning step:\n",
      ">> Epoch 1 finished \tANN training loss 2.707119\n",
      ">> Epoch 2 finished \tANN training loss 2.505739\n",
      ">> Epoch 3 finished \tANN training loss 2.309713\n",
      ">> Epoch 4 finished \tANN training loss 2.109078\n",
      ">> Epoch 5 finished \tANN training loss 1.941178\n",
      ">> Epoch 6 finished \tANN training loss 1.815853\n",
      ">> Epoch 7 finished \tANN training loss 1.715317\n",
      ">> Epoch 8 finished \tANN training loss 1.614222\n",
      ">> Epoch 9 finished \tANN training loss 1.527262\n",
      ">> Epoch 10 finished \tANN training loss 1.445384\n",
      "[END] Fine tuning step\n",
      "Done.\n",
      "Accuracy: 0.782104\n"
     ]
    }
   ],
   "source": [
    "# Training\n",
    "classifier = SupervisedDBNClassification(hidden_layers_structure=[256, 256],\n",
    "                                         learning_rate_rbm=0.05,\n",
    "                                         learning_rate=0.1,\n",
    "                                         n_epochs_rbm=10,\n",
    "                                         n_iter_backprop=10,\n",
    "                                         batch_size=128,\n",
    "                                         activation_function='relu',\n",
    "                                         dropout_p=0.05)\n",
    "classifier.fit(X_train, Y_train)\n",
    "\n",
    "# Test\n",
    "Y_pred = classifier.predict(X_test)\n",
    "print('Done.\\nAccuracy: %f' % accuracy_score(Y_test, Y_pred))"
   ]
  }
 ],
 "metadata": {
  "kernelspec": {
   "display_name": "venv",
   "language": "python",
   "name": "venv"
  },
  "language_info": {
   "codemirror_mode": {
    "name": "ipython",
    "version": 3
   },
   "file_extension": ".py",
   "mimetype": "text/x-python",
   "name": "python",
   "nbconvert_exporter": "python",
   "pygments_lexer": "ipython3",
   "version": "3.6.5"
  }
 },
 "nbformat": 4,
 "nbformat_minor": 2
}
