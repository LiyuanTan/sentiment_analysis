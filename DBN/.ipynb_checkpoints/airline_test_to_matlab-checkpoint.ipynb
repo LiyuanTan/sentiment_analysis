{
 "cells": [
  {
   "cell_type": "code",
   "execution_count": 1,
   "metadata": {},
   "outputs": [
    {
     "name": "stderr",
     "output_type": "stream",
     "text": [
      "/anaconda3/lib/python3.6/site-packages/h5py/__init__.py:36: FutureWarning: Conversion of the second argument of issubdtype from `float` to `np.floating` is deprecated. In future, it will be treated as `np.float64 == np.dtype(float).type`.\n",
      "  from ._conv import register_converters as _register_converters\n",
      "Using TensorFlow backend.\n"
     ]
    },
    {
     "name": "stdout",
     "output_type": "stream",
     "text": [
      "[nltk_data] Downloading package stopwords to\n",
      "[nltk_data]     /Users/liyuantan/nltk_data...\n",
      "[nltk_data]   Package stopwords is already up-to-date!\n",
      "(10248, 10000)\n",
      "(2928, 10000)\n",
      "(10248,)\n",
      "(2928,)\n"
     ]
    }
   ],
   "source": [
    "# Basic packages\n",
    "import pandas as pd \n",
    "import numpy as np\n",
    "import re\n",
    "import collections\n",
    "import os\n",
    "# Packages for data preparation\n",
    "from sklearn.model_selection import train_test_split\n",
    "from nltk.corpus import stopwords\n",
    "from keras.preprocessing.text import Tokenizer\n",
    "from keras.utils.np_utils import to_categorical\n",
    "from sklearn.preprocessing import LabelEncoder\n",
    "\n",
    "NB_WORDS = 10000  # Parameter indicating the number of words we'll put in the dictionary\n",
    "\n",
    "df = pd.read_csv('Tweets.csv')\n",
    "df = df.reindex(np.random.permutation(df.index))  \n",
    "df = df[['text', 'airline_sentiment']]\n",
    "\n",
    "import nltk\n",
    "nltk.download('stopwords')\n",
    "\n",
    "def remove_stopwords(input_text):\n",
    "        stopwords_list = stopwords.words('english')\n",
    "        # Some words which might indicate a certain sentiment are kept via a whitelist\n",
    "        whitelist = [\"n't\", \"not\", \"no\"]\n",
    "        words = input_text.split() \n",
    "        clean_words = [word for word in words if (word not in stopwords_list or word in whitelist) and len(word) > 1] \n",
    "        return \" \".join(clean_words) \n",
    "    \n",
    "def remove_mentions(input_text):\n",
    "        return re.sub(r'@\\w+', '', input_text)\n",
    "       \n",
    "df.text = df.text.apply(remove_stopwords).apply(remove_mentions)\n",
    "\n",
    "X_train, X_test, y_train, y_test = train_test_split(df.text, df.airline_sentiment, test_size=0.1, random_state=37)\n",
    "assert X_train.shape[0] == y_train.shape[0]\n",
    "assert X_test.shape[0] == y_test.shape[0]\n",
    "\n",
    "tk = Tokenizer(num_words=NB_WORDS,\n",
    "               filters='!\"#$%&()*+,-./:;<=>?@[\\\\]^_`{|}~\\t\\n',\n",
    "               lower=True,\n",
    "               split=\" \")\n",
    "tk.fit_on_texts(X_train)\n",
    "\n",
    "X_train_seq = tk.texts_to_sequences(X_train)\n",
    "X_test_seq = tk.texts_to_sequences(X_test)\n",
    "\n",
    "le = LabelEncoder()\n",
    "y_train_le = le.fit_transform(y_train)\n",
    "y_test_le = le.transform(y_test)\n",
    "\n",
    "from keras.preprocessing.sequence import pad_sequences\n",
    "data = pad_sequences(X_train_seq, maxlen=26)\n",
    "labels = np.asarray(y_train_le)\n",
    "\n",
    "training_samples = 10248  # We will be training on 2000 samples\n",
    "validation_samples = 2928\n",
    "\n",
    "# Split the data into a training set and a validation set\n",
    "# But first, shuffle the data, since we started from data\n",
    "# where sample are ordered (all negative first, then all positive).\n",
    "indices = np.arange(data.shape[0])\n",
    "np.random.shuffle(indices)\n",
    "data = data[indices]\n",
    "labels = labels[indices]\n",
    "\n",
    "onehot = np.zeros((data.shape[0], NB_WORDS))\n",
    "for i in range(data.shape[0]):\n",
    "    for j in range(26):\n",
    "        temp2 = data [i]\n",
    "        if temp2[j] != 0:\n",
    "            a = temp2[j]\n",
    "            onehot[i][a] = 1\n",
    "            \n",
    "from sklearn.model_selection import train_test_split\n",
    "from sklearn.metrics.classification import accuracy_score\n",
    "from sklearn.metrics import confusion_matrix\n",
    "from models import SupervisedDBNClassification\n",
    "\n",
    "\n",
    "# Loading dataset\n",
    "X, Y = onehot, labels\n",
    "# Data scaling\n",
    "X = (X).astype(np.float32)\n",
    "\n",
    "# Splitting data\n",
    "X_train, X_test, Y_train, Y_test = train_test_split(X, Y, test_size=2/9, random_state=0)\n",
    "#X_train = X[1000:5000]\n",
    "#X_test = X[0:1000]\n",
    "#Y_train = Y[1000:5000]\n",
    "#Y_test= Y[0:1000]\n",
    "print (X_train.shape)\n",
    "print (X_test.shape)\n",
    "print (Y_train.shape)\n",
    "print (Y_test.shape)"
   ]
  },
  {
   "cell_type": "code",
   "execution_count": 2,
   "metadata": {},
   "outputs": [],
   "source": [
    "x_test = pad_sequences(X_test_seq, maxlen=26)\n",
    "y_test = np.asarray(y_test_le)\n",
    "\n",
    "onehot_test = np.zeros((x_test.shape[0], NB_WORDS))\n",
    "for i in range(x_test.shape[0]):\n",
    "    for j in range(26):\n",
    "        temp2 = x_test [i]\n",
    "        if temp2[j] != 0:\n",
    "            a = temp2[j]\n",
    "            onehot_test[i][a] = 1\n",
    "            \n",
    "x_test = (onehot_test).astype(np.float32)"
   ]
  },
  {
   "cell_type": "code",
   "execution_count": 3,
   "metadata": {},
   "outputs": [],
   "source": [
    "def toNpBin(var,varName):\n",
    "    if not os.path.exists('npbin_test'):\n",
    "        os.mkdir('npbin_test')\n",
    "    #else:\n",
    "        #os.system('rm ./npbin/*.npbin')\n",
    " \n",
    "    typeStr = str(var.dtype)\n",
    "    if typeStr=='float64':\n",
    "        typeStr='double'\n",
    " \n",
    "    shape = list(var.shape)\n",
    "    #pdb.set_trace()\n",
    "    if len(shape)==1:\n",
    "        shapeArray=[shape[0],1]\n",
    "        filename = './npbin_test/'+varName+'_'+str(shapeArray)[1:-1].replace(', ','-')+ \\\n",
    "                    '_' + typeStr + '_' + '.npbin_test'\n",
    "        var.tofile(filename)\n",
    "    else:\n",
    "        #shape.reverse()\n",
    "        shapeArray=shape\n",
    "        #shapeArray[0], shapeArray[1] = shapeArray[1], shapeArray[0]\n",
    "        filename = './npbin_test/'+varName+'_'+str(shapeArray)[1:-1].replace(', ','-')+ \\\n",
    "                    '_' + typeStr + '_' + '.npbin_test'\n",
    "        var.tofile(filename)\n",
    " \n",
    "    print ('write ' + varName +' done!')"
   ]
  },
  {
   "cell_type": "code",
   "execution_count": 4,
   "metadata": {},
   "outputs": [
    {
     "name": "stdout",
     "output_type": "stream",
     "text": [
      "write traindata done!\n",
      "write testdata done!\n",
      "write trainlabel done!\n",
      "write testlabel done!\n"
     ]
    }
   ],
   "source": [
    "toNpBin(X_train,'traindata')\n",
    "toNpBin(x_test,'testdata')\n",
    "toNpBin(Y_train,'trainlabel')\n",
    "toNpBin(y_test,'testlabel')"
   ]
  }
 ],
 "metadata": {
  "kernelspec": {
   "display_name": "venv",
   "language": "python",
   "name": "venv"
  },
  "language_info": {
   "codemirror_mode": {
    "name": "ipython",
    "version": 3
   },
   "file_extension": ".py",
   "mimetype": "text/x-python",
   "name": "python",
   "nbconvert_exporter": "python",
   "pygments_lexer": "ipython3",
   "version": "3.6.5"
  }
 },
 "nbformat": 4,
 "nbformat_minor": 2
}
