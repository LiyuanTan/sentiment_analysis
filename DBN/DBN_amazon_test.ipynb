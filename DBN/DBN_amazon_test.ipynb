{
 "cells": [
  {
   "cell_type": "code",
   "execution_count": 1,
   "metadata": {},
   "outputs": [
    {
     "name": "stderr",
     "output_type": "stream",
     "text": [
      "/anaconda3/lib/python3.6/site-packages/h5py/__init__.py:36: FutureWarning: Conversion of the second argument of issubdtype from `float` to `np.floating` is deprecated. In future, it will be treated as `np.float64 == np.dtype(float).type`.\n",
      "  from ._conv import register_converters as _register_converters\n",
      "Using TensorFlow backend.\n"
     ]
    },
    {
     "name": "stdout",
     "output_type": "stream",
     "text": [
      "Found 111047 unique tokens.\n",
      "Shape of data tensor: (90000, 200)\n",
      "Shape of label tensor: (90000,)\n"
     ]
    }
   ],
   "source": [
    "import numpy as np \n",
    "import pandas as pd \n",
    "import gc\n",
    "import re\n",
    "import os\n",
    "\n",
    "train_file = open('train.ft.txt')\n",
    "test_file = open('test.ft.txt')\n",
    "\n",
    "train_file_lines = train_file.readlines()\n",
    "test_file_lines = test_file.readlines()\n",
    "\n",
    "del train_file, test_file\n",
    "\n",
    "train_labels = [0 if x.split(' ')[0] == '__label__1' else 1 for x in train_file_lines]\n",
    "train_sentences = [x.split(' ', 1)[1][:-1].lower() for x in train_file_lines]\n",
    "\n",
    "for i in range(len(train_sentences)):\n",
    "    train_sentences[i] = re.sub('\\d','0',train_sentences[i])\n",
    "                                                       \n",
    "for i in range(len(train_sentences)):\n",
    "    if 'www.' in train_sentences[i] or 'http:' in train_sentences[i] or 'https:' in train_sentences[i] or '.com' in train_sentences[i]:\n",
    "        train_sentences[i] = re.sub(r\"([^ ]+(?<=\\.[a-z]{3}))\", \"<url>\", train_sentences[i])\n",
    "        \n",
    "del train_file_lines, test_file_lines\n",
    "\n",
    "gc.collect()\n",
    "\n",
    "labels_test = train_labels[90000:100000]\n",
    "texts_test = train_sentences[90000:100000]\n",
    "labels = train_labels[0:90000]\n",
    "texts = train_sentences[0:90000]\n",
    "\n",
    "from keras.preprocessing.text import Tokenizer\n",
    "from keras.preprocessing.sequence import pad_sequences\n",
    "import numpy as np\n",
    "\n",
    "maxlen = 200  # We will cut reviews after 100 words\n",
    "max_words = 10000  # We will only consider the top 10,000 words in the dataset\n",
    "\n",
    "tokenizer = Tokenizer(num_words=max_words)  # https://keras.io/preprocessing/text/\n",
    "tokenizer.fit_on_texts(texts)\n",
    "sequences = tokenizer.texts_to_sequences(texts)  # This turns strings into lists of integer indices.\n",
    "\n",
    "word_index = tokenizer.word_index\n",
    "print('Found %s unique tokens.' % len(word_index))\n",
    "\n",
    "data = pad_sequences(sequences, maxlen=maxlen)\n",
    "\n",
    "labels = np.asarray(labels)\n",
    "print('Shape of data tensor:', data.shape)\n",
    "print('Shape of label tensor:', labels.shape)\n",
    "\n",
    "# Split the data into a training set and a validation set\n",
    "# But first, shuffle the data, since we started from data\n",
    "# where sample are ordered (all negative first, then all positive).\n",
    "indices = np.arange(data.shape[0])\n",
    "np.random.shuffle(indices)\n",
    "data = data[indices]\n",
    "labels = labels[indices]\n",
    "\n",
    "onehot = np.zeros((data.shape[0], max_words))\n",
    "for i in range(data.shape[0]):\n",
    "    for j in range(maxlen):\n",
    "        temp2 = data [i]\n",
    "        if temp2[j] != 0:\n",
    "            a = temp2[j]\n",
    "            onehot[i][a] = 1\n",
    "            \n",
    "from sklearn.model_selection import train_test_split\n",
    "from sklearn.metrics.classification import accuracy_score\n",
    "from sklearn.metrics import confusion_matrix\n",
    "from models import SupervisedDBNClassification\n",
    "\n",
    "\n",
    "# Loading dataset\n",
    "X, Y = onehot, labels\n",
    "\n",
    "# Data scaling\n",
    "X = (X).astype(np.float32)\n",
    "\n",
    "# Splitting data\n",
    "X_train, X_test, Y_train, Y_test = train_test_split(X, Y, test_size=2/9, random_state=0)\n",
    "\n",
    "# Training\n",
    "classifier = SupervisedDBNClassification(hidden_layers_structure=[16, 16],\n",
    "                                         learning_rate_rbm=0.05,\n",
    "                                         learning_rate=0.1,\n",
    "                                         n_epochs_rbm=10,\n",
    "                                         n_iter_backprop=10,\n",
    "                                         batch_size=128,\n",
    "                                         activation_function='relu',\n",
    "                                         dropout_p=0.05)"
   ]
  },
  {
   "cell_type": "code",
   "execution_count": 2,
   "metadata": {},
   "outputs": [
    {
     "name": "stdout",
     "output_type": "stream",
     "text": [
      "[START] Pre-training step:\n",
      ">> Epoch 1 finished \tRBM Reconstruction error 40.953100\n",
      ">> Epoch 2 finished \tRBM Reconstruction error 43.284354\n",
      ">> Epoch 3 finished \tRBM Reconstruction error 43.117760\n",
      ">> Epoch 4 finished \tRBM Reconstruction error 42.238269\n",
      ">> Epoch 5 finished \tRBM Reconstruction error 42.218665\n",
      ">> Epoch 6 finished \tRBM Reconstruction error 42.157096\n",
      ">> Epoch 7 finished \tRBM Reconstruction error 42.475909\n",
      ">> Epoch 8 finished \tRBM Reconstruction error 44.242539\n",
      ">> Epoch 9 finished \tRBM Reconstruction error 48.887965\n",
      ">> Epoch 10 finished \tRBM Reconstruction error 52.405087\n",
      ">> Epoch 1 finished \tRBM Reconstruction error 23.447293\n",
      ">> Epoch 2 finished \tRBM Reconstruction error 24.667427\n",
      ">> Epoch 3 finished \tRBM Reconstruction error 24.320436\n",
      ">> Epoch 4 finished \tRBM Reconstruction error 34.352391\n",
      ">> Epoch 5 finished \tRBM Reconstruction error 44.304799\n",
      ">> Epoch 6 finished \tRBM Reconstruction error 68.996240\n",
      ">> Epoch 7 finished \tRBM Reconstruction error 80.347505\n",
      ">> Epoch 8 finished \tRBM Reconstruction error 77.835547\n",
      ">> Epoch 9 finished \tRBM Reconstruction error 105.352251\n",
      ">> Epoch 10 finished \tRBM Reconstruction error 100.361207\n",
      "[END] Pre-training step\n",
      "[START] Fine tuning step:\n",
      ">> Epoch 1 finished \tANN training loss 1.090247\n",
      ">> Epoch 2 finished \tANN training loss 0.789019\n",
      ">> Epoch 3 finished \tANN training loss 0.702265\n",
      ">> Epoch 4 finished \tANN training loss 0.648680\n",
      ">> Epoch 5 finished \tANN training loss 0.607599\n",
      ">> Epoch 6 finished \tANN training loss 0.584913\n",
      ">> Epoch 7 finished \tANN training loss 0.561649\n",
      ">> Epoch 8 finished \tANN training loss 0.541081\n",
      ">> Epoch 9 finished \tANN training loss 0.522950\n",
      ">> Epoch 10 finished \tANN training loss 0.508892\n",
      "[END] Fine tuning step\n",
      "CPU times: user 36min 8s, sys: 6min 37s, total: 42min 45s\n",
      "Wall time: 27min 57s\n"
     ]
    },
    {
     "data": {
      "text/plain": [
       "SupervisedDBNClassification()"
      ]
     },
     "execution_count": 2,
     "metadata": {},
     "output_type": "execute_result"
    }
   ],
   "source": [
    "%%time\n",
    "classifier.fit(X_train, Y_train)"
   ]
  },
  {
   "cell_type": "code",
   "execution_count": 3,
   "metadata": {},
   "outputs": [],
   "source": [
    "# Test\n",
    "sequences = tokenizer.texts_to_sequences(texts_test)\n",
    "x_test = pad_sequences(sequences, maxlen=maxlen)\n",
    "y_test = np.asarray(labels_test)\n",
    "\n",
    "onehot_test = np.zeros((x_test.shape[0], max_words))\n",
    "for i in range(x_test.shape[0]):\n",
    "    for j in range(maxlen):\n",
    "        temp2 = x_test [i]\n",
    "        if temp2[j] != 0:\n",
    "            a = temp2[j]\n",
    "            onehot_test[i][a] = 1\n",
    "            \n",
    "x_test = (onehot_test).astype(np.float32)"
   ]
  },
  {
   "cell_type": "code",
   "execution_count": 4,
   "metadata": {},
   "outputs": [
    {
     "name": "stdout",
     "output_type": "stream",
     "text": [
      "Done.\n",
      "Accuracy: 0.876900\n",
      "CPU times: user 481 ms, sys: 269 ms, total: 750 ms\n",
      "Wall time: 574 ms\n"
     ]
    }
   ],
   "source": [
    "%%time\n",
    "y_pred = classifier.predict(x_test)\n",
    "print('Done.\\nAccuracy: %f' % accuracy_score(y_test, y_pred))"
   ]
  }
 ],
 "metadata": {
  "kernelspec": {
   "display_name": "venv",
   "language": "python",
   "name": "venv"
  },
  "language_info": {
   "codemirror_mode": {
    "name": "ipython",
    "version": 3
   },
   "file_extension": ".py",
   "mimetype": "text/x-python",
   "name": "python",
   "nbconvert_exporter": "python",
   "pygments_lexer": "ipython3",
   "version": "3.6.5"
  }
 },
 "nbformat": 4,
 "nbformat_minor": 2
}
